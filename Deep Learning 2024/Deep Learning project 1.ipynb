{
  "cells": [
    {
      "cell_type": "markdown",
      "id": "ea337813-fce5-4417-b59b-dc0d15fab55e",
      "metadata": {
        "id": "ea337813-fce5-4417-b59b-dc0d15fab55e"
      },
      "source": [
        "# Deep Learning - Report 1\n",
        "This is a template notebook of your report. Please complete your report with your team mate following these instructions:\n",
        "- Work on the exercies below by filling the notebook.\n",
        "- **Rename your notebook** in the format `FirstName1FAMILYNAME1_FirstName2FAMILYNAME2_report1.ipynb`. For example, when the team consists of Johann FAOUZI and Ikko Yamane, the file name should look like `JohannFAOUZI_IkkoYAMANE_report1.ipynb`.\n",
        "- You are only allowed to edit new cells you have added (except the \"Solution to Exercise 0\" cell).\n",
        "- Write `### Solution to Exercise (number)` at the beginning of each cell you add.\n",
        "- Please submit your notebook on Moodle.\n",
        "- The submission deadline is 17:00 (UTC+2) of September 19, 2023.\n",
        "- Explain your code with comment or/and markdown. The explanations will be taken into account for the evaluation."
      ]
    },
    {
      "cell_type": "markdown",
      "id": "794f604e-1919-45c0-8fed-31d0c128327c",
      "metadata": {
        "id": "794f604e-1919-45c0-8fed-31d0c128327c"
      },
      "source": [
        "## Exercise 0\n",
        "- Rename your notebook in the format `FirstName1FAMILYNAME1_FirstName2FAMILYNAME2_report1.ipynb`.\n",
        "- Write your names and email addresses."
      ]
    },
    {
      "cell_type": "markdown",
      "id": "46bbec6f-db8a-45d6-972a-282f11e2c383",
      "metadata": {
        "id": "46bbec6f-db8a-45d6-972a-282f11e2c383"
      },
      "source": [
        "### Solution to Exercise 0\n",
        "- Name of Author 1: GANIYU Isaac\n",
        "- Name of Author 2: DECROS Florian\n",
        "- Email address of Author 1: isaac.ganiyu@eleve.ensai.fr\n",
        "- Email address of Author 2: florian.decros@eleve.ensai.fr"
      ]
    },
    {
      "cell_type": "markdown",
      "id": "0ac3d7fe-0654-415f-8fb3-cfb1007bda14",
      "metadata": {
        "id": "0ac3d7fe-0654-415f-8fb3-cfb1007bda14"
      },
      "source": [
        "## CIFAR-10\n",
        "We are going to work on the [CIFAR-10 dataset](https://www.cs.toronto.edu/~kriz/cifar.html) [Krizhevsky 2009].\n",
        "\n",
        "For the purpose of testing your skills, we are going to directly download an original dataset and manually adapt it to the PyTorch format. The following three cells download the data, create NumPy arrays of them, and show examples. The `load_cifar10` function converts the color images to gray-scale ones when `color=False`.\n",
        "\n",
        "[Krizhevsky 2009] [Learning Multiple Layers of Features from Tiny Images, Alex Krizhevsky, 2009.](https://www.cs.toronto.edu/~kriz/learning-features-2009-TR.pdf)"
      ]
    },
    {
      "cell_type": "code",
      "execution_count": null,
      "id": "3dc9eab2-e508-4bb2-b50b-13c83f57531b",
      "metadata": {
        "id": "3dc9eab2-e508-4bb2-b50b-13c83f57531b"
      },
      "outputs": [],
      "source": [
        "import pickle\n",
        "import numpy as np\n",
        "import urllib.request\n",
        "import tarfile\n",
        "import os.path\n",
        "from pathlib import Path\n",
        "\n",
        "def download_cifar10():\n",
        "    filename = 'cifar-10.tar.gz'\n",
        "    if os.path.isfile(filename):\n",
        "        print(f'{filename} already exists. Skipping downloading.')\n",
        "        return\n",
        "\n",
        "    url = 'https://www.cs.toronto.edu/~kriz/cifar-10-python.tar.gz'\n",
        "\n",
        "    with urllib.request.urlopen(url) as testfile, open('cifar-10.tar.gz', 'wb') as f:\n",
        "        f.write(testfile.read())\n",
        "\n",
        "\n",
        "def extract_cifar10(filename=\"cifar-10.tar.gz\"):\n",
        "    dirname = 'cifar-10-batches-py'\n",
        "    if Path(dirname).is_dir():\n",
        "        print(f'{dirname} already exists. Skipping extracting.')\n",
        "        return\n",
        "\n",
        "    tar = tarfile.open(filename)\n",
        "    tar.extractall()\n",
        "    tar.close()\n",
        "\n",
        "\n",
        "def load_cifar10(train, dir='cifar-10-batches-py', color=False):\n",
        "    data_raw = []\n",
        "    if train:\n",
        "        for i in range(5):\n",
        "            with open(f'{dir}/data_batch_{i+1}', 'rb') as f:\n",
        "                data_raw.append(pickle.load(f, encoding='bytes'))\n",
        "        x = np.concatenate(\n",
        "            [d[b'data'] for d in data_raw],\n",
        "            axis=0)\n",
        "        y = np.concatenate(\n",
        "            [d[b'labels'] for d in data_raw],\n",
        "            axis=0)\n",
        "    else:\n",
        "        with open(f'{dir}/test_batch', 'rb') as f:\n",
        "            data_raw = pickle.load(f, encoding='bytes')\n",
        "        x = np.array(data_raw[b'data'])\n",
        "        y = np.array(data_raw[b'labels'])\n",
        "\n",
        "    x = np.reshape(x, newshape=(len(x), 3, 32, 32))\n",
        "    if not color:\n",
        "        x = x.mean(axis=1, keepdims=True)  # Convert Red-Green-Blue (RGB) images to gray-scale.\n",
        "    return x, y"
      ]
    },
    {
      "cell_type": "code",
      "execution_count": null,
      "id": "a43ec81c-28c3-4349-9ebb-3b9252c6146e",
      "metadata": {
        "id": "a43ec81c-28c3-4349-9ebb-3b9252c6146e"
      },
      "outputs": [],
      "source": [
        "download_cifar10()\n",
        "extract_cifar10()\n",
        "x_train_val_np, y_train_val_np = load_cifar10(train=True)\n",
        "x_test_np, y_test_np = load_cifar10(train=False)"
      ]
    },
    {
      "cell_type": "code",
      "execution_count": null,
      "id": "066184ca-ee34-49ce-b848-e5dd4e02c3f6",
      "metadata": {
        "colab": {
          "base_uri": "https://localhost:8080/",
          "height": 188
        },
        "id": "066184ca-ee34-49ce-b848-e5dd4e02c3f6",
        "outputId": "50a10d09-fefa-469f-9373-2c11932d0a80"
      },
      "outputs": [
        {
          "output_type": "stream",
          "name": "stdout",
          "text": [
            "['truck', 'truck', 'deer', 'automobile', 'automobile']\n"
          ]
        },
        {
          "output_type": "display_data",
          "data": {
            "text/plain": [
              "<Figure size 1000x200 with 5 Axes>"
            ],
            "image/png": "[encoded data removed]"
          },
          "metadata": {}
        }
      ],
      "source": [
        "import matplotlib.pyplot as plt\n",
        "\n",
        "id2class = {\n",
        "    0: 'airplane',\n",
        "    1: 'automobile',\n",
        "    2: 'bird',\n",
        "    3: 'cat',\n",
        "    4: 'deer',\n",
        "    5: 'dog',\n",
        "    6: 'frog',\n",
        "    7: 'horse',\n",
        "    8: 'ship',\n",
        "    9: 'truck'\n",
        "}\n",
        "\n",
        "def plot_images(x, y, rows=1, cols=5, color=False):\n",
        "    figure = plt.figure(figsize=(2 * cols, 2 * rows))\n",
        "    ys = []\n",
        "    for i in range(rows):\n",
        "        for j in range(cols):\n",
        "            k = (i * cols) + j + 1\n",
        "            figure.add_subplot(rows, cols, k)\n",
        "            plt.axis(\"off\")\n",
        "            if color:\n",
        "                plt.imshow(np.transpose(x[k], [1, 2, 0]))\n",
        "            else:\n",
        "                plt.imshow(np.transpose(x[k], [1, 2, 0]), cmap=\"gray\")\n",
        "            ys.append(y[k])\n",
        "    print([id2class[id] for id in ys])\n",
        "    plt.show()\n",
        "\n",
        "plot_images(x_train_val_np, y_train_val_np, rows=1, cols=5)"
      ]
    },
    {
      "cell_type": "markdown",
      "id": "5ee7685e-d3ba-45e5-80a0-d48c2b61e2b7",
      "metadata": {
        "id": "5ee7685e-d3ba-45e5-80a0-d48c2b61e2b7"
      },
      "source": [
        "## Exercise 1\n",
        "Randomly split the dataset `(x_train_val_np, y_train_val_np)` to a training set `(x_train_np, y_train_np)` and a validation set `(x_val_np, y_val_np)`. Here, take `40000` data points for the training set and put the rest in the validation set."
      ]
    },
    {
      "cell_type": "markdown",
      "source": [
        "Solution to Exercise 1"
      ],
      "metadata": {
        "id": "cDWZ5jlJlFHk"
      },
      "id": "cDWZ5jlJlFHk"
    },
    {
      "cell_type": "code",
      "source": [
        "print(x_train_val_np.shape)\n",
        "y_train_val_np.shape"
      ],
      "metadata": {
        "colab": {
          "base_uri": "https://localhost:8080/"
        },
        "id": "4fsFPQUij65r",
        "outputId": "817d0cf0-b371-4ad9-88a3-fd0f5f947ccc"
      },
      "id": "4fsFPQUij65r",
      "execution_count": null,
      "outputs": [
        {
          "output_type": "stream",
          "name": "stdout",
          "text": [
            "(50000, 1, 32, 32)\n"
          ]
        },
        {
          "output_type": "execute_result",
          "data": {
            "text/plain": [
              "(50000,)"
            ]
          },
          "metadata": {},
          "execution_count": 4
        }
      ]
    },
    {
      "cell_type": "code",
      "execution_count": null,
      "id": "708d2a8c-b913-44f6-a0fa-f24d893a13a6",
      "metadata": {
        "colab": {
          "base_uri": "https://localhost:8080/"
        },
        "id": "708d2a8c-b913-44f6-a0fa-f24d893a13a6",
        "outputId": "e662d84e-f0a0-433b-e701-a92cae2a4c81"
      },
      "outputs": [
        {
          "output_type": "stream",
          "name": "stdout",
          "text": [
            "shapes of x_train_np:  (40000, 1, 32, 32)\n",
            "shapes of x_val_np:  (10000, 1, 32, 32)\n",
            "shapes of y_train_np:  (40000,)\n",
            "shapes of y_val_np:  (10000,)\n"
          ]
        }
      ],
      "source": [
        "from sklearn.model_selection import train_test_split\n",
        "\n",
        "x_train_np, x_val_np, y_train_np, y_val_np = train_test_split(x_train_val_np, y_train_val_np, train_size=40000,\n",
        "                                                              stratify = y_train_val_np, random_state = 6)\n",
        "# we use the stratify parameter to have the same class distribution in the sets and the random_state parameter to fix the randomness\n",
        "print(\"shapes of x_train_np: \", x_train_np.shape)\n",
        "print(\"shapes of x_val_np: \", x_val_np.shape)\n",
        "print(\"shapes of y_train_np: \", y_train_np.shape)\n",
        "print(\"shapes of y_val_np: \", y_val_np.shape)"
      ]
    },
    {
      "cell_type": "markdown",
      "id": "e282dd87-695e-4cbc-b5de-bd9fdbc14bf2",
      "metadata": {
        "id": "e282dd87-695e-4cbc-b5de-bd9fdbc14bf2"
      },
      "source": [
        "## Exercise 2\n",
        "Write code to convert `x_train_np, y_train_np, x_val_np, y_val_np, x_test_np, y_test_np` to PyTorch Tensors.\n",
        "Name the tensors as `x_train, y_train, x_val, y_val, x_test, y_test`, respectively.\n",
        "\n",
        "**Note**: You may need to explicitly change the `dtype` of your tensors. PyTorch by default requires the type (`dtype`) of input tensor to be `torch.float32` and that of the labels to be `torch.int64`."
      ]
    },
    {
      "cell_type": "markdown",
      "source": [
        "Solution to Exercise 2"
      ],
      "metadata": {
        "id": "1Mhtr5fpl_f3"
      },
      "id": "1Mhtr5fpl_f3"
    },
    {
      "cell_type": "code",
      "execution_count": null,
      "id": "f658ef6f-01dc-4f97-9149-498d34a33c2d",
      "metadata": {
        "colab": {
          "base_uri": "https://localhost:8080/"
        },
        "id": "f658ef6f-01dc-4f97-9149-498d34a33c2d",
        "outputId": "902f7ab9-fb80-478c-b810-8dac8bb57be9"
      },
      "outputs": [
        {
          "output_type": "execute_result",
          "data": {
            "text/plain": [
              "torch.float64"
            ]
          },
          "metadata": {},
          "execution_count": 6
        }
      ],
      "source": [
        "import torch\n",
        "\n",
        "x_train = torch.from_numpy(x_train_np) # convert from numpy to tensor\n",
        "x_train.to(dtype=torch.float32) #changing the dtype\n",
        "x_train.dtype"
      ]
    },
    {
      "cell_type": "code",
      "source": [
        "y_train = torch.from_numpy(y_train_np)\n",
        "y_train.to(dtype=torch.int64)\n",
        "y_train.dtype"
      ],
      "metadata": {
        "colab": {
          "base_uri": "https://localhost:8080/"
        },
        "id": "EMh2Tjq2mtBD",
        "outputId": "72f184c7-7483-4fa9-9219-e70877793762"
      },
      "id": "EMh2Tjq2mtBD",
      "execution_count": null,
      "outputs": [
        {
          "output_type": "execute_result",
          "data": {
            "text/plain": [
              "torch.int64"
            ]
          },
          "metadata": {},
          "execution_count": 7
        }
      ]
    },
    {
      "cell_type": "code",
      "source": [
        "x_val = torch.from_numpy(x_val_np)\n",
        "x_val.to(dtype=torch.float32)\n",
        "x_val.dtype"
      ],
      "metadata": {
        "colab": {
          "base_uri": "https://localhost:8080/"
        },
        "id": "uF13lfyNmuSg",
        "outputId": "19784239-c55e-46c3-faf3-d228474d424d"
      },
      "id": "uF13lfyNmuSg",
      "execution_count": null,
      "outputs": [
        {
          "output_type": "execute_result",
          "data": {
            "text/plain": [
              "torch.float64"
            ]
          },
          "metadata": {},
          "execution_count": 8
        }
      ]
    },
    {
      "cell_type": "code",
      "source": [
        "y_val = torch.from_numpy(y_val_np)\n",
        "y_val.to(dtype=torch.int64)\n",
        "y_val.dtype"
      ],
      "metadata": {
        "colab": {
          "base_uri": "https://localhost:8080/"
        },
        "id": "718mQvn4muE-",
        "outputId": "c5f5ade2-b40d-4499-f1d3-1f8a705a37d4"
      },
      "id": "718mQvn4muE-",
      "execution_count": null,
      "outputs": [
        {
          "output_type": "execute_result",
          "data": {
            "text/plain": [
              "torch.int64"
            ]
          },
          "metadata": {},
          "execution_count": 9
        }
      ]
    },
    {
      "cell_type": "code",
      "source": [
        "x_test = torch.from_numpy(x_test_np)\n",
        "x_test.to(dtype=torch.float32)\n",
        "x_test.dtype"
      ],
      "metadata": {
        "colab": {
          "base_uri": "https://localhost:8080/"
        },
        "id": "uyep-9dUnJIM",
        "outputId": "8250ec9a-c897-4d32-98a4-6b469cc0ebc6"
      },
      "id": "uyep-9dUnJIM",
      "execution_count": null,
      "outputs": [
        {
          "output_type": "execute_result",
          "data": {
            "text/plain": [
              "torch.float64"
            ]
          },
          "metadata": {},
          "execution_count": 10
        }
      ]
    },
    {
      "cell_type": "code",
      "source": [
        "y_test = torch.from_numpy(y_test_np)\n",
        "y_test.to(dtype=torch.int64)\n",
        "y_test.dtype"
      ],
      "metadata": {
        "colab": {
          "base_uri": "https://localhost:8080/"
        },
        "id": "s0C_RN1LnI6r",
        "outputId": "f5d470f4-58dc-4752-c34e-461e79a0955e"
      },
      "id": "s0C_RN1LnI6r",
      "execution_count": null,
      "outputs": [
        {
          "output_type": "execute_result",
          "data": {
            "text/plain": [
              "torch.int64"
            ]
          },
          "metadata": {},
          "execution_count": 11
        }
      ]
    },
    {
      "cell_type": "markdown",
      "id": "0e29f160-2b66-4c6e-8443-b1c13067d6d9",
      "metadata": {
        "id": "0e29f160-2b66-4c6e-8443-b1c13067d6d9"
      },
      "source": [
        "## Exercise 3\n",
        "Write a Python class `CustomDataset` deriving `torch.utils.data.Dataset` and create dataloaders for the training, validation, and test sets.\n",
        "\n",
        "**Bonus** If possible, making the `transform` parameter and pass `ToTensor()` to it to avoid manually converting data to PyTorch tensors as in Exercise 2."
      ]
    },
    {
      "cell_type": "markdown",
      "source": [
        "Solution of excercise 3"
      ],
      "metadata": {
        "id": "GkmcPb6MruGi"
      },
      "id": "GkmcPb6MruGi"
    },
    {
      "cell_type": "code",
      "execution_count": null,
      "id": "646ca6de-80eb-4090-847b-7476ca5cf369",
      "metadata": {
        "id": "646ca6de-80eb-4090-847b-7476ca5cf369"
      },
      "outputs": [],
      "source": [
        "from torch.utils.data import Dataset, DataLoader\n",
        "from torchvision import transforms\n",
        "from torchvision.transforms import ToTensor, Compose\n",
        "\n",
        "class CustomDataset(Dataset):\n",
        "    def __init__(self, X, y, transform=None):  # adding the transform parameter\n",
        "        self.X = torch.tensor(X, dtype=torch.float32) # applying the transform ToTensor() and changing the dtype directly\n",
        "        self.y = torch.tensor(y, dtype=torch.int64) # applying the transform ToTensor() and changing the dtype directly\n",
        "        self.transform = transform\n",
        "\n",
        "    def __len__(self):\n",
        "        return len(self.y)\n",
        "\n",
        "    def __getitem__(self, idx):\n",
        "        X_idx = self.X[idx]\n",
        "        y_idx = self.y[idx]\n",
        "\n",
        "        if self.transform: #we apply the transform before returning the data\n",
        "            X_idx = self.transform(X_idx)\n",
        "\n",
        "        return X_idx, y_idx\n",
        "\n"
      ]
    },
    {
      "cell_type": "code",
      "source": [
        "from torchvision.transforms.v2 import ToDtype\n",
        "\n",
        "# creating the different dataloaders\n",
        "train_dataloader = DataLoader(CustomDataset(x_train, y_train), batch_size=64, shuffle=True) # shuffle parameter allows us to shuffle the data at each epoch\n",
        "val_dataloader = DataLoader(CustomDataset(x_val, y_val), batch_size=64, shuffle=True)\n",
        "test_dataloader = DataLoader(CustomDataset(x_test, y_test), batch_size=64, shuffle=True)\n"
      ],
      "metadata": {
        "id": "ukEiXbQzrnl2",
        "colab": {
          "base_uri": "https://localhost:8080/"
        },
        "outputId": "be303ec8-f030-4822-a61a-b58edd03cbf2"
      },
      "id": "ukEiXbQzrnl2",
      "execution_count": null,
      "outputs": [
        {
          "output_type": "stream",
          "name": "stderr",
          "text": [
            "/usr/local/lib/python3.10/dist-packages/torchvision/datapoints/__init__.py:12: UserWarning: The torchvision.datapoints and torchvision.transforms.v2 namespaces are still Beta. While we do not expect major breaking changes, some APIs may still change according to user feedback. Please submit any feedback you may have in this issue: https://github.com/pytorch/vision/issues/6753, and you can also check out https://github.com/pytorch/vision/issues/7319 to learn more about the APIs that we suspect might involve future changes. You can silence this warning by calling torchvision.disable_beta_transforms_warning().\n",
            "  warnings.warn(_BETA_TRANSFORMS_WARNING)\n",
            "/usr/local/lib/python3.10/dist-packages/torchvision/transforms/v2/__init__.py:54: UserWarning: The torchvision.datapoints and torchvision.transforms.v2 namespaces are still Beta. While we do not expect major breaking changes, some APIs may still change according to user feedback. Please submit any feedback you may have in this issue: https://github.com/pytorch/vision/issues/6753, and you can also check out https://github.com/pytorch/vision/issues/7319 to learn more about the APIs that we suspect might involve future changes. You can silence this warning by calling torchvision.disable_beta_transforms_warning().\n",
            "  warnings.warn(_BETA_TRANSFORMS_WARNING)\n",
            "<ipython-input-12-d19eb33125b3>:7: UserWarning: To copy construct from a tensor, it is recommended to use sourceTensor.clone().detach() or sourceTensor.clone().detach().requires_grad_(True), rather than torch.tensor(sourceTensor).\n",
            "  self.X = torch.tensor(X, dtype=torch.float32) # applying the transform ToTensor() and changing the dtype directly\n",
            "<ipython-input-12-d19eb33125b3>:8: UserWarning: To copy construct from a tensor, it is recommended to use sourceTensor.clone().detach() or sourceTensor.clone().detach().requires_grad_(True), rather than torch.tensor(sourceTensor).\n",
            "  self.y = torch.tensor(y, dtype=torch.int64) # applying the transform ToTensor() and changing the dtype directly\n"
          ]
        }
      ]
    },
    {
      "cell_type": "markdown",
      "id": "87425561-86ce-456e-a747-e508a0cb22b3",
      "metadata": {
        "id": "87425561-86ce-456e-a747-e508a0cb22b3"
      },
      "source": [
        "## Exercise 4\n",
        "Let the variable `device` be `'cuda'` if CUDA (GPU) is available. Otherwise, let it be `'cpu'`.\n",
        "(Do **not** move the tensors from Exercise 1 to this `device` yet.)"
      ]
    },
    {
      "cell_type": "markdown",
      "source": [
        "Solution of excercise 4\n"
      ],
      "metadata": {
        "id": "0Zb1kCURzms0"
      },
      "id": "0Zb1kCURzms0"
    },
    {
      "cell_type": "code",
      "execution_count": null,
      "id": "3fbca087-4535-4152-ae4d-3d394eed3c0f",
      "metadata": {
        "colab": {
          "base_uri": "https://localhost:8080/",
          "height": 36
        },
        "id": "3fbca087-4535-4152-ae4d-3d394eed3c0f",
        "outputId": "7e80b3c3-0c13-4748-ebb9-2176e35434ef"
      },
      "outputs": [
        {
          "output_type": "execute_result",
          "data": {
            "text/plain": [
              "'cuda'"
            ],
            "application/vnd.google.colaboratory.intrinsic+json": {
              "type": "string"
            }
          },
          "metadata": {},
          "execution_count": 14
        }
      ],
      "source": [
        "if torch.cuda.is_available():\n",
        "  device = \"cuda\"\n",
        "else :\n",
        "  device = \"cpu\"\n",
        "\n",
        "device"
      ]
    },
    {
      "cell_type": "markdown",
      "id": "99fa22fc-91f0-4616-950f-f1cabdaaf170",
      "metadata": {
        "id": "99fa22fc-91f0-4616-950f-f1cabdaaf170"
      },
      "source": [
        "## Exercise 5\n",
        "Write a Python class `MLP5` for Multi-Layer Perceptron (MLP) with 5 layers derivng from `nn.Module` or `nn.Sequencial`.\n",
        "Your network must have the following sequential architecture:\n",
        "- First hidden layer: Linear layer (64 output features) + ReLU activation function\n",
        "- Second hidden layer: Linear layer (64 output features) + ReLU activation function\n",
        "- Third hidden layer: Linear layer (64 output features) + ReLU activation function\n",
        "- Forth hidden layer: Linear layer (64 output features) + ReLU activation function\n",
        "- Final layer: Linear layer\n",
        "\n",
        "Note that the final layer should have the output dimensionality equal to the number of classes in order to express class posterior probabilities."
      ]
    },
    {
      "cell_type": "markdown",
      "source": [
        "Solution of excercise 5"
      ],
      "metadata": {
        "id": "lLkQj3Et1EUk"
      },
      "id": "lLkQj3Et1EUk"
    },
    {
      "cell_type": "code",
      "source": [
        "np.unique(y_train)"
      ],
      "metadata": {
        "colab": {
          "base_uri": "https://localhost:8080/"
        },
        "id": "S1G7Zgtk2dmg",
        "outputId": "38092f14-c7d7-41e3-f1c8-cbd4b07b07db"
      },
      "id": "S1G7Zgtk2dmg",
      "execution_count": null,
      "outputs": [
        {
          "output_type": "execute_result",
          "data": {
            "text/plain": [
              "array([0, 1, 2, 3, 4, 5, 6, 7, 8, 9])"
            ]
          },
          "metadata": {},
          "execution_count": 15
        }
      ]
    },
    {
      "cell_type": "code",
      "source": [
        "from torch import nn\n",
        "\n",
        "output_len = len(np.unique(y_train)) # number of classes\n",
        "\n",
        "# The class should inherit from the nn.Module and implement the two methods __init__ and forward\n",
        "class MLP5(nn.Module):\n",
        "    def __init__(self):\n",
        "        super().__init__()\n",
        "        self.flatten = nn.Flatten()\n",
        "        self.linear_relu_stack = nn.Sequential(  # implementing the different layers\n",
        "            nn.Linear(1024, 64),  # 1024 is the input size\n",
        "            nn.ReLU(), # activation function\n",
        "            nn.Linear(64, 64),\n",
        "            nn.ReLU(),\n",
        "            nn.Linear(64, 64),\n",
        "            nn.ReLU(),\n",
        "            nn.Linear(64, 64),\n",
        "            nn.ReLU(),\n",
        "            nn.Linear(64, output_len),\n",
        "        )\n",
        "\n",
        "    def forward(self, x): # The forward method defines the forward pass through the network.\n",
        "        x = self.flatten(x)\n",
        "        return self.linear_relu_stack(x)"
      ],
      "metadata": {
        "id": "TuBwBATL1D5B"
      },
      "id": "TuBwBATL1D5B",
      "execution_count": null,
      "outputs": []
    },
    {
      "cell_type": "markdown",
      "id": "77bddaf1-3077-4f55-9d52-a019520fd30c",
      "metadata": {
        "id": "77bddaf1-3077-4f55-9d52-a019520fd30c"
      },
      "source": [
        "## Exercise 6\n",
        "- Write a Python function for training a model with mini-batch updates for one epoch. Do not forget to move your mini-batch data to `device`.\n",
        "- Also, write Python function for evaluating the loss and the accuracy of a given model with a given dataloader."
      ]
    },
    {
      "cell_type": "markdown",
      "source": [
        "Solution of exercise 6"
      ],
      "metadata": {
        "id": "6cQY2EfHQDgI"
      },
      "id": "6cQY2EfHQDgI"
    },
    {
      "cell_type": "code",
      "execution_count": null,
      "id": "09f8098b-f1a6-40a5-a00a-31243356050e",
      "metadata": {
        "scrolled": true,
        "id": "09f8098b-f1a6-40a5-a00a-31243356050e"
      },
      "outputs": [],
      "source": [
        "def train_loop(dataloader, model, loss_fn, optimizer, device):\n",
        "    size = len(dataloader.dataset)\n",
        "\n",
        "    model.train()\n",
        "\n",
        "    for batch, (X, y) in enumerate(dataloader):\n",
        "        X = X.to(device)\n",
        "        y = y.to(device)\n",
        "\n",
        "        # Compute prediction and loss\n",
        "        pred = model(X)\n",
        "        loss = loss_fn(pred, y)\n",
        "\n",
        "        # Backpropagation\n",
        "        loss.backward()\n",
        "        optimizer.step()\n",
        "        optimizer.zero_grad()\n",
        "\n",
        "        # Display loss from time to time\n",
        "        if batch % 100 == 0:\n",
        "            loss, current = loss.item(), (batch + 1) * len(X)\n",
        "            print(f\"loss: {loss: >7f}  [{current: >5d} / {size: >5d}]\")\n",
        "\n",
        "\n",
        "def evaluate_loop(dataloader, model, loss_fn, device, set_='Validation'):\n",
        "\n",
        "    model.eval()\n",
        "    size = len(dataloader.dataset)\n",
        "    num_batches = len(dataloader)\n",
        "    test_loss, correct = 0, 0\n",
        "\n",
        "    with torch.no_grad():\n",
        "        for X, y in dataloader:\n",
        "            X = X.to(device)\n",
        "            y = y.to(device)\n",
        "            pred = model(X)\n",
        "            test_loss += loss_fn(pred, y).item()\n",
        "            correct += (pred.argmax(1) == y).type(torch.float).sum().item()\n",
        "\n",
        "    test_loss /= num_batches\n",
        "    correct /= size\n",
        "    print(f\"\\n{set_} set: \\n  Accuracy: {(100 * correct): >0.1f}%, Avg loss: {test_loss: >8f} \\n\")"
      ]
    },
    {
      "cell_type": "markdown",
      "id": "14f0f65b-699f-40e4-9db0-e53668b549a8",
      "metadata": {
        "id": "14f0f65b-699f-40e4-9db0-e53668b549a8"
      },
      "source": [
        "## Exercise 7\n",
        "- Create an object using your class and keep it in the `modelMLP5` variable. Do not forget move your model to `device`.\n",
        "- Choose any loss function.\n",
        "- Create an optimizer for optimizing `modelMLP5`.\n",
        "- Train `modelMLP5` with your function(s) for 10 epochs. During the training, print the training and validation loss/accuracy every epoch.\n",
        "\n",
        "You may need to tune hyper-parameters such as the learning rate later while observing the behavior of the model during the training."
      ]
    },
    {
      "cell_type": "markdown",
      "source": [
        "Solution of exercise 7"
      ],
      "metadata": {
        "id": "SRWdjiGAVbJe"
      },
      "id": "SRWdjiGAVbJe"
    },
    {
      "cell_type": "code",
      "execution_count": null,
      "id": "0bc1d5b4-68e0-458d-a936-8ba6b26da6ee",
      "metadata": {
        "scrolled": true,
        "id": "0bc1d5b4-68e0-458d-a936-8ba6b26da6ee"
      },
      "outputs": [],
      "source": [
        "modelMLP5 = MLP5().to(device) #object of class MLP5 and moving to device"
      ]
    },
    {
      "cell_type": "code",
      "source": [
        "#Choosing cross entropy loss function\n",
        "loss_fn = nn.CrossEntropyLoss()"
      ],
      "metadata": {
        "id": "d70WFDk0VkZ-"
      },
      "id": "d70WFDk0VkZ-",
      "execution_count": null,
      "outputs": []
    },
    {
      "cell_type": "code",
      "source": [
        "#Using stochastic gradient descent for the optimizer and 1e-3 for step-size\n",
        "learning_rate = 1e-3\n",
        "optimizer = torch.optim.SGD(modelMLP5.parameters(), lr=learning_rate)"
      ],
      "metadata": {
        "id": "2GTfzPKOVuSj"
      },
      "id": "2GTfzPKOVuSj",
      "execution_count": null,
      "outputs": []
    },
    {
      "cell_type": "code",
      "source": [
        "epochs = 10\n",
        "\n",
        "for t in range(epochs):\n",
        "    print(f\"Epoch {t + 1}\\n-------------------------------\")\n",
        "    train_loop(train_dataloader, modelMLP5, loss_fn, optimizer, device)\n",
        "    evaluate_loop(val_dataloader, modelMLP5, loss_fn, device)"
      ],
      "metadata": {
        "id": "hAZcVTCLWF71",
        "colab": {
          "base_uri": "https://localhost:8080/"
        },
        "outputId": "96016ca8-9a95-4b20-b394-1d6e423469dd"
      },
      "id": "hAZcVTCLWF71",
      "execution_count": null,
      "outputs": [
        {
          "output_type": "stream",
          "name": "stdout",
          "text": [
            "Epoch 1\n",
            "-------------------------------\n",
            "loss: 3.496277  [   64 / 40000]\n",
            "loss: 2.239365  [ 6464 / 40000]\n",
            "loss: 2.126370  [12864 / 40000]\n",
            "loss: 2.300689  [19264 / 40000]\n",
            "loss: 1.992010  [25664 / 40000]\n",
            "loss: 2.082762  [32064 / 40000]\n",
            "loss: 2.095412  [38464 / 40000]\n",
            "\n",
            "Validation set: \n",
            "  Accuracy: 24.6%, Avg loss: 2.066419 \n",
            "\n",
            "Epoch 2\n",
            "-------------------------------\n",
            "loss: 2.054154  [   64 / 40000]\n",
            "loss: 1.967783  [ 6464 / 40000]\n",
            "loss: 1.966103  [12864 / 40000]\n",
            "loss: 1.954384  [19264 / 40000]\n",
            "loss: 2.030212  [25664 / 40000]\n",
            "loss: 2.033156  [32064 / 40000]\n",
            "loss: 2.104990  [38464 / 40000]\n",
            "\n",
            "Validation set: \n",
            "  Accuracy: 28.2%, Avg loss: 2.005207 \n",
            "\n",
            "Epoch 3\n",
            "-------------------------------\n",
            "loss: 1.927012  [   64 / 40000]\n",
            "loss: 1.979762  [ 6464 / 40000]\n",
            "loss: 2.017225  [12864 / 40000]\n",
            "loss: 1.821216  [19264 / 40000]\n",
            "loss: 1.921048  [25664 / 40000]\n",
            "loss: 2.097141  [32064 / 40000]\n",
            "loss: 2.037457  [38464 / 40000]\n",
            "\n",
            "Validation set: \n",
            "  Accuracy: 29.3%, Avg loss: 1.962265 \n",
            "\n",
            "Epoch 4\n",
            "-------------------------------\n",
            "loss: 1.841264  [   64 / 40000]\n",
            "loss: 1.951002  [ 6464 / 40000]\n",
            "loss: 1.974593  [12864 / 40000]\n",
            "loss: 1.772047  [19264 / 40000]\n",
            "loss: 2.070736  [25664 / 40000]\n",
            "loss: 1.994186  [32064 / 40000]\n",
            "loss: 2.000139  [38464 / 40000]\n",
            "\n",
            "Validation set: \n",
            "  Accuracy: 30.0%, Avg loss: 1.923354 \n",
            "\n",
            "Epoch 5\n",
            "-------------------------------\n",
            "loss: 2.110406  [   64 / 40000]\n",
            "loss: 1.920339  [ 6464 / 40000]\n",
            "loss: 1.815036  [12864 / 40000]\n",
            "loss: 1.892437  [19264 / 40000]\n",
            "loss: 1.894938  [25664 / 40000]\n",
            "loss: 1.981585  [32064 / 40000]\n",
            "loss: 1.979869  [38464 / 40000]\n",
            "\n",
            "Validation set: \n",
            "  Accuracy: 30.5%, Avg loss: 1.921518 \n",
            "\n",
            "Epoch 6\n",
            "-------------------------------\n",
            "loss: 1.977448  [   64 / 40000]\n",
            "loss: 1.900072  [ 6464 / 40000]\n",
            "loss: 1.831563  [12864 / 40000]\n",
            "loss: 1.962018  [19264 / 40000]\n",
            "loss: 1.802149  [25664 / 40000]\n",
            "loss: 1.867043  [32064 / 40000]\n",
            "loss: 1.922254  [38464 / 40000]\n",
            "\n",
            "Validation set: \n",
            "  Accuracy: 31.9%, Avg loss: 1.895859 \n",
            "\n",
            "Epoch 7\n",
            "-------------------------------\n",
            "loss: 1.718366  [   64 / 40000]\n",
            "loss: 1.934959  [ 6464 / 40000]\n",
            "loss: 1.885237  [12864 / 40000]\n",
            "loss: 1.712368  [19264 / 40000]\n",
            "loss: 1.658339  [25664 / 40000]\n",
            "loss: 1.954611  [32064 / 40000]\n",
            "loss: 1.754900  [38464 / 40000]\n",
            "\n",
            "Validation set: \n",
            "  Accuracy: 32.1%, Avg loss: 1.877128 \n",
            "\n",
            "Epoch 8\n",
            "-------------------------------\n",
            "loss: 1.584201  [   64 / 40000]\n",
            "loss: 1.999232  [ 6464 / 40000]\n",
            "loss: 1.846386  [12864 / 40000]\n",
            "loss: 1.838254  [19264 / 40000]\n",
            "loss: 2.016572  [25664 / 40000]\n",
            "loss: 1.907165  [32064 / 40000]\n",
            "loss: 1.874617  [38464 / 40000]\n",
            "\n",
            "Validation set: \n",
            "  Accuracy: 33.0%, Avg loss: 1.870608 \n",
            "\n",
            "Epoch 9\n",
            "-------------------------------\n",
            "loss: 1.939777  [   64 / 40000]\n",
            "loss: 1.852358  [ 6464 / 40000]\n",
            "loss: 1.902491  [12864 / 40000]\n",
            "loss: 1.825947  [19264 / 40000]\n",
            "loss: 1.786980  [25664 / 40000]\n",
            "loss: 1.897855  [32064 / 40000]\n",
            "loss: 1.995438  [38464 / 40000]\n",
            "\n",
            "Validation set: \n",
            "  Accuracy: 33.1%, Avg loss: 1.860364 \n",
            "\n",
            "Epoch 10\n",
            "-------------------------------\n",
            "loss: 2.066142  [   64 / 40000]\n",
            "loss: 1.851665  [ 6464 / 40000]\n",
            "loss: 2.001214  [12864 / 40000]\n",
            "loss: 1.838335  [19264 / 40000]\n",
            "loss: 1.937842  [25664 / 40000]\n",
            "loss: 1.731338  [32064 / 40000]\n",
            "loss: 1.718061  [38464 / 40000]\n",
            "\n",
            "Validation set: \n",
            "  Accuracy: 33.8%, Avg loss: 1.843725 \n",
            "\n"
          ]
        }
      ]
    },
    {
      "cell_type": "markdown",
      "id": "01758752-10ad-41ff-a9ae-3670408e291c",
      "metadata": {
        "id": "01758752-10ad-41ff-a9ae-3670408e291c"
      },
      "source": [
        "## Exercise 8\n",
        "Write a Python class `MLP5BN` similarly to `MLP5`, but put a batch normalization layer (`torch.nn.BatchNorm1d`) before every activation layer.\n",
        "Then, create an object using your class and keep it in the `modelMLP5BN` variable. Train this model and compare the results for `modelMLP5` and `modelMLP5BN`."
      ]
    },
    {
      "cell_type": "markdown",
      "source": [
        "Solution of exercise 8"
      ],
      "metadata": {
        "id": "Dg7OqX3IspoH"
      },
      "id": "Dg7OqX3IspoH"
    },
    {
      "cell_type": "code",
      "execution_count": null,
      "id": "69335fbf-f63f-478f-a39d-9ead47588ec1",
      "metadata": {
        "scrolled": true,
        "id": "69335fbf-f63f-478f-a39d-9ead47588ec1"
      },
      "outputs": [],
      "source": [
        "from torch import nn\n",
        "\n",
        "\n",
        "# The class should inherit from the nn.Module and implement the two methods __init__ and forward\n",
        "class MLP5BN(nn.Module):\n",
        "    def __init__(self):\n",
        "        super().__init__()\n",
        "        self.flatten = nn.Flatten()\n",
        "        self.linear_relu_stack = nn.Sequential(\n",
        "            nn.Linear(1024, 64),\n",
        "            nn.BatchNorm1d(64), # batch normalization layer with the number of features equal to 64\n",
        "            nn.ReLU(),\n",
        "            nn.Linear(64, 64),\n",
        "            nn.BatchNorm1d(64),\n",
        "            nn.ReLU(),\n",
        "            nn.Linear(64, 64),\n",
        "            nn.BatchNorm1d(64),\n",
        "            nn.ReLU(),\n",
        "            nn.Linear(64, 64),\n",
        "            nn.BatchNorm1d(64),\n",
        "            nn.ReLU(),\n",
        "            nn.Linear(64, output_len)\n",
        "        )\n",
        "\n",
        "    def forward(self, x): # The forward method defines the forward pass through the network.\n",
        "        x = self.flatten(x)\n",
        "        return self.linear_relu_stack(x)"
      ]
    },
    {
      "cell_type": "code",
      "source": [
        "modelMLP5BN = MLP5BN().to(device)\n",
        "\n",
        "#Using stochastic gradient descent for the optimizer and 1e-3 for step-size\n",
        "learning_rate = 1e-3\n",
        "loss_fn = nn.CrossEntropyLoss()\n",
        "optimizer = torch.optim.SGD(modelMLP5BN.parameters(), lr=learning_rate)"
      ],
      "metadata": {
        "id": "Y7ptt2wDsutC"
      },
      "id": "Y7ptt2wDsutC",
      "execution_count": null,
      "outputs": []
    },
    {
      "cell_type": "code",
      "source": [
        "for t in range(epochs):\n",
        "    print(f\"Epoch {t + 1}\\n-------------------------------\")\n",
        "    train_loop(train_dataloader, modelMLP5BN, loss_fn, optimizer, device)\n",
        "    evaluate_loop(val_dataloader, modelMLP5BN, loss_fn, device)"
      ],
      "metadata": {
        "colab": {
          "base_uri": "https://localhost:8080/"
        },
        "id": "xPA0O3mYsRFO",
        "outputId": "5473d3eb-9d9b-440a-8966-139c39e3c925"
      },
      "id": "xPA0O3mYsRFO",
      "execution_count": null,
      "outputs": [
        {
          "output_type": "stream",
          "name": "stdout",
          "text": [
            "Epoch 1\n",
            "-------------------------------\n",
            "loss: 2.389149  [   64 / 40000]\n",
            "loss: 2.340690  [ 6464 / 40000]\n",
            "loss: 2.224452  [12864 / 40000]\n",
            "loss: 2.278910  [19264 / 40000]\n",
            "loss: 2.107138  [25664 / 40000]\n",
            "loss: 2.205730  [32064 / 40000]\n",
            "loss: 2.135494  [38464 / 40000]\n",
            "\n",
            "Validation set: \n",
            "  Accuracy: 24.2%, Avg loss: 2.148784 \n",
            "\n",
            "Epoch 2\n",
            "-------------------------------\n",
            "loss: 2.174519  [   64 / 40000]\n",
            "loss: 2.074400  [ 6464 / 40000]\n",
            "loss: 2.148257  [12864 / 40000]\n",
            "loss: 2.089277  [19264 / 40000]\n",
            "loss: 2.063035  [25664 / 40000]\n",
            "loss: 2.016971  [32064 / 40000]\n",
            "loss: 2.074417  [38464 / 40000]\n",
            "\n",
            "Validation set: \n",
            "  Accuracy: 28.5%, Avg loss: 2.069112 \n",
            "\n",
            "Epoch 3\n",
            "-------------------------------\n",
            "loss: 2.048801  [   64 / 40000]\n",
            "loss: 2.048280  [ 6464 / 40000]\n",
            "loss: 2.125125  [12864 / 40000]\n",
            "loss: 1.941204  [19264 / 40000]\n",
            "loss: 2.034583  [25664 / 40000]\n",
            "loss: 1.899674  [32064 / 40000]\n",
            "loss: 2.010813  [38464 / 40000]\n",
            "\n",
            "Validation set: \n",
            "  Accuracy: 30.3%, Avg loss: 2.012336 \n",
            "\n",
            "Epoch 4\n",
            "-------------------------------\n",
            "loss: 1.927053  [   64 / 40000]\n",
            "loss: 1.968398  [ 6464 / 40000]\n",
            "loss: 1.879033  [12864 / 40000]\n",
            "loss: 2.033767  [19264 / 40000]\n",
            "loss: 2.041397  [25664 / 40000]\n",
            "loss: 2.070972  [32064 / 40000]\n",
            "loss: 2.182067  [38464 / 40000]\n",
            "\n",
            "Validation set: \n",
            "  Accuracy: 31.5%, Avg loss: 1.973521 \n",
            "\n",
            "Epoch 5\n",
            "-------------------------------\n",
            "loss: 1.901388  [   64 / 40000]\n",
            "loss: 1.998157  [ 6464 / 40000]\n",
            "loss: 1.955956  [12864 / 40000]\n",
            "loss: 2.041817  [19264 / 40000]\n",
            "loss: 2.036254  [25664 / 40000]\n",
            "loss: 1.720875  [32064 / 40000]\n",
            "loss: 1.953830  [38464 / 40000]\n",
            "\n",
            "Validation set: \n",
            "  Accuracy: 32.0%, Avg loss: 1.940245 \n",
            "\n",
            "Epoch 6\n",
            "-------------------------------\n",
            "loss: 1.931472  [   64 / 40000]\n",
            "loss: 1.942632  [ 6464 / 40000]\n",
            "loss: 1.886744  [12864 / 40000]\n",
            "loss: 1.902552  [19264 / 40000]\n",
            "loss: 1.927062  [25664 / 40000]\n",
            "loss: 1.894354  [32064 / 40000]\n",
            "loss: 1.870807  [38464 / 40000]\n",
            "\n",
            "Validation set: \n",
            "  Accuracy: 32.6%, Avg loss: 1.916179 \n",
            "\n",
            "Epoch 7\n",
            "-------------------------------\n",
            "loss: 2.004875  [   64 / 40000]\n",
            "loss: 1.884143  [ 6464 / 40000]\n",
            "loss: 1.966750  [12864 / 40000]\n",
            "loss: 1.870394  [19264 / 40000]\n",
            "loss: 2.022009  [25664 / 40000]\n",
            "loss: 2.040984  [32064 / 40000]\n",
            "loss: 1.957458  [38464 / 40000]\n",
            "\n",
            "Validation set: \n",
            "  Accuracy: 33.0%, Avg loss: 1.898133 \n",
            "\n",
            "Epoch 8\n",
            "-------------------------------\n",
            "loss: 1.877117  [   64 / 40000]\n",
            "loss: 1.958511  [ 6464 / 40000]\n",
            "loss: 1.812323  [12864 / 40000]\n",
            "loss: 1.895051  [19264 / 40000]\n",
            "loss: 1.945972  [25664 / 40000]\n",
            "loss: 1.949977  [32064 / 40000]\n",
            "loss: 1.772037  [38464 / 40000]\n",
            "\n",
            "Validation set: \n",
            "  Accuracy: 33.9%, Avg loss: 1.876752 \n",
            "\n",
            "Epoch 9\n",
            "-------------------------------\n",
            "loss: 1.917634  [   64 / 40000]\n",
            "loss: 1.789766  [ 6464 / 40000]\n",
            "loss: 1.883524  [12864 / 40000]\n",
            "loss: 1.692684  [19264 / 40000]\n",
            "loss: 1.812037  [25664 / 40000]\n",
            "loss: 1.747778  [32064 / 40000]\n",
            "loss: 1.783937  [38464 / 40000]\n",
            "\n",
            "Validation set: \n",
            "  Accuracy: 34.3%, Avg loss: 1.862529 \n",
            "\n",
            "Epoch 10\n",
            "-------------------------------\n",
            "loss: 1.872522  [   64 / 40000]\n",
            "loss: 1.761479  [ 6464 / 40000]\n",
            "loss: 1.847592  [12864 / 40000]\n",
            "loss: 1.873370  [19264 / 40000]\n",
            "loss: 1.967126  [25664 / 40000]\n",
            "loss: 2.007814  [32064 / 40000]\n",
            "loss: 1.733587  [38464 / 40000]\n",
            "\n",
            "Validation set: \n",
            "  Accuracy: 35.1%, Avg loss: 1.844729 \n",
            "\n"
          ]
        }
      ]
    },
    {
      "cell_type": "markdown",
      "source": [
        "When using the Gradient descent as optimizer we do not notice a large difference between the performance of MLP5BN and the one of MLP5. However we can use here another optimizer : the adaptative moment estimation."
      ],
      "metadata": {
        "id": "g-D1nd7OUYua"
      },
      "id": "g-D1nd7OUYua"
    },
    {
      "cell_type": "code",
      "source": [
        "optimizer = torch.optim.Adam(params=modelMLP5BN.parameters(), lr=1e-3) #adaptative moment optimizer"
      ],
      "metadata": {
        "id": "mOAmEVdOTTmV"
      },
      "id": "mOAmEVdOTTmV",
      "execution_count": null,
      "outputs": []
    },
    {
      "cell_type": "code",
      "source": [
        "for t in range(epochs):\n",
        "    print(f\"Epoch {t + 1}\\n-------------------------------\")\n",
        "    train_loop(train_dataloader, modelMLP5BN, loss_fn, optimizer, device)\n",
        "    evaluate_loop(val_dataloader, modelMLP5BN, loss_fn, device)"
      ],
      "metadata": {
        "colab": {
          "base_uri": "https://localhost:8080/"
        },
        "id": "3zlGeBD8TZSz",
        "outputId": "b1b18930-488f-4acf-db9b-3dc0147fddd6"
      },
      "id": "3zlGeBD8TZSz",
      "execution_count": null,
      "outputs": [
        {
          "output_type": "stream",
          "name": "stdout",
          "text": [
            "Epoch 1\n",
            "-------------------------------\n",
            "loss: 1.860796  [   64 / 40000]\n",
            "loss: 1.807316  [ 6464 / 40000]\n",
            "loss: 1.904148  [12864 / 40000]\n",
            "loss: 1.735212  [19264 / 40000]\n",
            "loss: 1.742115  [25664 / 40000]\n",
            "loss: 1.741662  [32064 / 40000]\n",
            "loss: 1.844354  [38464 / 40000]\n",
            "\n",
            "Validation set: \n",
            "  Accuracy: 35.4%, Avg loss: 1.798849 \n",
            "\n",
            "Epoch 2\n",
            "-------------------------------\n",
            "loss: 1.832559  [   64 / 40000]\n",
            "loss: 1.751490  [ 6464 / 40000]\n",
            "loss: 1.788820  [12864 / 40000]\n",
            "loss: 1.766095  [19264 / 40000]\n",
            "loss: 1.633330  [25664 / 40000]\n",
            "loss: 1.533624  [32064 / 40000]\n",
            "loss: 1.549862  [38464 / 40000]\n",
            "\n",
            "Validation set: \n",
            "  Accuracy: 37.5%, Avg loss: 1.751376 \n",
            "\n",
            "Epoch 3\n",
            "-------------------------------\n",
            "loss: 1.494072  [   64 / 40000]\n",
            "loss: 1.614352  [ 6464 / 40000]\n",
            "loss: 1.590360  [12864 / 40000]\n",
            "loss: 1.584679  [19264 / 40000]\n",
            "loss: 1.711880  [25664 / 40000]\n",
            "loss: 1.637505  [32064 / 40000]\n",
            "loss: 1.713174  [38464 / 40000]\n",
            "\n",
            "Validation set: \n",
            "  Accuracy: 38.9%, Avg loss: 1.723345 \n",
            "\n",
            "Epoch 4\n",
            "-------------------------------\n",
            "loss: 1.572626  [   64 / 40000]\n",
            "loss: 1.673965  [ 6464 / 40000]\n",
            "loss: 1.324533  [12864 / 40000]\n",
            "loss: 1.513241  [19264 / 40000]\n",
            "loss: 1.495979  [25664 / 40000]\n",
            "loss: 1.483034  [32064 / 40000]\n",
            "loss: 1.562798  [38464 / 40000]\n",
            "\n",
            "Validation set: \n",
            "  Accuracy: 41.3%, Avg loss: 1.652195 \n",
            "\n",
            "Epoch 5\n",
            "-------------------------------\n",
            "loss: 1.567138  [   64 / 40000]\n",
            "loss: 1.483893  [ 6464 / 40000]\n",
            "loss: 1.702767  [12864 / 40000]\n",
            "loss: 1.713346  [19264 / 40000]\n",
            "loss: 1.690874  [25664 / 40000]\n",
            "loss: 1.808479  [32064 / 40000]\n",
            "loss: 1.426063  [38464 / 40000]\n",
            "\n",
            "Validation set: \n",
            "  Accuracy: 41.0%, Avg loss: 1.663104 \n",
            "\n",
            "Epoch 6\n",
            "-------------------------------\n",
            "loss: 1.465108  [   64 / 40000]\n",
            "loss: 1.314746  [ 6464 / 40000]\n",
            "loss: 1.458716  [12864 / 40000]\n",
            "loss: 1.486843  [19264 / 40000]\n",
            "loss: 1.646921  [25664 / 40000]\n",
            "loss: 1.678788  [32064 / 40000]\n",
            "loss: 1.599355  [38464 / 40000]\n",
            "\n",
            "Validation set: \n",
            "  Accuracy: 40.6%, Avg loss: 1.672227 \n",
            "\n",
            "Epoch 7\n",
            "-------------------------------\n",
            "loss: 1.465634  [   64 / 40000]\n",
            "loss: 1.433589  [ 6464 / 40000]\n",
            "loss: 1.683228  [12864 / 40000]\n",
            "loss: 1.528462  [19264 / 40000]\n",
            "loss: 1.489538  [25664 / 40000]\n",
            "loss: 1.691583  [32064 / 40000]\n",
            "loss: 1.526009  [38464 / 40000]\n",
            "\n",
            "Validation set: \n",
            "  Accuracy: 39.2%, Avg loss: 1.709684 \n",
            "\n",
            "Epoch 8\n",
            "-------------------------------\n",
            "loss: 1.294637  [   64 / 40000]\n",
            "loss: 1.449682  [ 6464 / 40000]\n",
            "loss: 1.544939  [12864 / 40000]\n",
            "loss: 1.242780  [19264 / 40000]\n",
            "loss: 1.854983  [25664 / 40000]\n",
            "loss: 1.399308  [32064 / 40000]\n",
            "loss: 1.662730  [38464 / 40000]\n",
            "\n",
            "Validation set: \n",
            "  Accuracy: 41.5%, Avg loss: 1.664706 \n",
            "\n",
            "Epoch 9\n",
            "-------------------------------\n",
            "loss: 1.235197  [   64 / 40000]\n",
            "loss: 1.282708  [ 6464 / 40000]\n",
            "loss: 1.379977  [12864 / 40000]\n",
            "loss: 1.339681  [19264 / 40000]\n",
            "loss: 1.610676  [25664 / 40000]\n",
            "loss: 1.430252  [32064 / 40000]\n",
            "loss: 1.289753  [38464 / 40000]\n",
            "\n",
            "Validation set: \n",
            "  Accuracy: 41.4%, Avg loss: 1.672649 \n",
            "\n",
            "Epoch 10\n",
            "-------------------------------\n",
            "loss: 1.456314  [   64 / 40000]\n",
            "loss: 1.449995  [ 6464 / 40000]\n",
            "loss: 1.271609  [12864 / 40000]\n",
            "loss: 1.450765  [19264 / 40000]\n",
            "loss: 1.641557  [25664 / 40000]\n",
            "loss: 1.381797  [32064 / 40000]\n",
            "loss: 1.578454  [38464 / 40000]\n",
            "\n",
            "Validation set: \n",
            "  Accuracy: 40.1%, Avg loss: 1.719996 \n",
            "\n"
          ]
        }
      ]
    },
    {
      "cell_type": "markdown",
      "source": [
        "Now the MLP5BN is much better since the accuracies and the average losses are better. However, it seems that, with this optimizer, the accuracy is not increasing from one epoch to the next anymore.\n"
      ],
      "metadata": {
        "id": "Leo_wnD7V2Lg"
      },
      "id": "Leo_wnD7V2Lg"
    },
    {
      "cell_type": "code",
      "source": [
        "#Evaluating on the test dataloader\n",
        "print(\"model MLP5\")\n",
        "evaluate_loop(test_dataloader, modelMLP5, loss_fn, device, set_= 'Test')\n",
        "print(\"model MLP5BN\")\n",
        "evaluate_loop(test_dataloader, modelMLP5BN, loss_fn, device, set_= 'Test' )\n",
        "\n"
      ],
      "metadata": {
        "colab": {
          "base_uri": "https://localhost:8080/"
        },
        "id": "J3qBZUg8dLrP",
        "outputId": "7cabd0c0-cae9-4aa0-f3e6-a6717a13fe9e"
      },
      "id": "J3qBZUg8dLrP",
      "execution_count": null,
      "outputs": [
        {
          "output_type": "stream",
          "name": "stdout",
          "text": [
            "model MLP5\n",
            "\n",
            "Test set: \n",
            "  Accuracy: 34.0%, Avg loss: 1.837977 \n",
            "\n",
            "model MLP5BN\n",
            "\n",
            "Test set: \n",
            "  Accuracy: 40.4%, Avg loss: 1.717094 \n",
            "\n"
          ]
        }
      ]
    },
    {
      "cell_type": "markdown",
      "source": [
        "We can see that the model MLP5BN is better than the MLP5"
      ],
      "metadata": {
        "id": "IU2xOWpKfv13"
      },
      "id": "IU2xOWpKfv13"
    },
    {
      "cell_type": "markdown",
      "id": "df4b9bf7-aef8-41d2-badd-98f4f55f6f9c",
      "metadata": {
        "id": "df4b9bf7-aef8-41d2-badd-98f4f55f6f9c"
      },
      "source": [
        "## Exercise 9\n",
        "The following Python class `LeNet5` is an implementation of a Convolutional Neural Network (CNN).\n",
        "Train this model and compare it with the previous two models. (Ignore the `num_channels` parameter of the class for now. Set it to the default value `1`.)"
      ]
    },
    {
      "cell_type": "code",
      "execution_count": null,
      "id": "fd362515-d777-450b-91f2-9bdb8933dfaf",
      "metadata": {
        "scrolled": true,
        "id": "fd362515-d777-450b-91f2-9bdb8933dfaf"
      },
      "outputs": [],
      "source": [
        "class LeNet5(nn.Module):\n",
        "    def __init__(self, num_classes=10):\n",
        "        super(LeNet5, self).__init__()\n",
        "        self.layer1 = nn.Sequential(\n",
        "            nn.Conv2d(1, 6, kernel_size=5, stride=1, padding=0),\n",
        "            nn.BatchNorm2d(6),\n",
        "            nn.ReLU(),\n",
        "            nn.MaxPool2d(kernel_size=2, stride=2))\n",
        "        self.layer2 = nn.Sequential(\n",
        "            nn.Conv2d(6, 16, kernel_size=5, stride=1, padding=0),\n",
        "            nn.BatchNorm2d(16),\n",
        "            nn.ReLU(),\n",
        "            nn.MaxPool2d(kernel_size=2, stride=2))\n",
        "        self.flatten = nn.Flatten()\n",
        "        self.fc = nn.Linear(400, 120)\n",
        "        self.relu = nn.ReLU()\n",
        "        self.fc1 = nn.Linear(120, 84)\n",
        "        self.relu1 = nn.ReLU()\n",
        "        self.fc2 = nn.Linear(84, num_classes)\n",
        "\n",
        "    def forward(self, x):\n",
        "        out = self.layer1(x)  # Second dimension is for channels, but we only have one channel.\n",
        "        out = self.layer2(out)\n",
        "        out = self.flatten(out)\n",
        "        out = self.fc(out)\n",
        "        out = self.relu(out)\n",
        "        out = self.fc1(out)\n",
        "        out = self.relu1(out)\n",
        "        out = self.fc2(out)\n",
        "        return out"
      ]
    },
    {
      "cell_type": "markdown",
      "source": [
        "Solution of exercise 9"
      ],
      "metadata": {
        "id": "izpIBx4Xr1wN"
      },
      "id": "izpIBx4Xr1wN"
    },
    {
      "cell_type": "code",
      "execution_count": null,
      "id": "522d6194-11e9-43a1-b350-348dd30c1f59",
      "metadata": {
        "scrolled": true,
        "id": "522d6194-11e9-43a1-b350-348dd30c1f59",
        "colab": {
          "base_uri": "https://localhost:8080/"
        },
        "outputId": "1276d6fd-aba2-43c1-b530-7795433ef057"
      },
      "outputs": [
        {
          "output_type": "stream",
          "name": "stdout",
          "text": [
            "Epoch 1\n",
            "-------------------------------\n",
            "loss: 2.304760  [   64 / 40000]\n",
            "loss: 1.720094  [ 6464 / 40000]\n",
            "loss: 1.678812  [12864 / 40000]\n",
            "loss: 1.773762  [19264 / 40000]\n",
            "loss: 1.307057  [25664 / 40000]\n",
            "loss: 1.773493  [32064 / 40000]\n",
            "loss: 1.312226  [38464 / 40000]\n",
            "\n",
            "Validation set: \n",
            "  Accuracy: 48.3%, Avg loss: 1.437194 \n",
            "\n",
            "Epoch 2\n",
            "-------------------------------\n",
            "loss: 1.456172  [   64 / 40000]\n",
            "loss: 1.553846  [ 6464 / 40000]\n",
            "loss: 1.510741  [12864 / 40000]\n",
            "loss: 1.249489  [19264 / 40000]\n",
            "loss: 1.200642  [25664 / 40000]\n",
            "loss: 1.131436  [32064 / 40000]\n",
            "loss: 1.233128  [38464 / 40000]\n",
            "\n",
            "Validation set: \n",
            "  Accuracy: 52.2%, Avg loss: 1.339954 \n",
            "\n",
            "Epoch 3\n",
            "-------------------------------\n",
            "loss: 1.345139  [   64 / 40000]\n",
            "loss: 1.236427  [ 6464 / 40000]\n",
            "loss: 1.239468  [12864 / 40000]\n",
            "loss: 1.176434  [19264 / 40000]\n",
            "loss: 1.114051  [25664 / 40000]\n",
            "loss: 1.037642  [32064 / 40000]\n",
            "loss: 1.141836  [38464 / 40000]\n",
            "\n",
            "Validation set: \n",
            "  Accuracy: 52.7%, Avg loss: 1.386907 \n",
            "\n",
            "Epoch 4\n",
            "-------------------------------\n",
            "loss: 1.058490  [   64 / 40000]\n",
            "loss: 1.190001  [ 6464 / 40000]\n",
            "loss: 1.138192  [12864 / 40000]\n",
            "loss: 1.242778  [19264 / 40000]\n",
            "loss: 1.013639  [25664 / 40000]\n",
            "loss: 1.155728  [32064 / 40000]\n",
            "loss: 1.133197  [38464 / 40000]\n",
            "\n",
            "Validation set: \n",
            "  Accuracy: 50.8%, Avg loss: 1.450513 \n",
            "\n",
            "Epoch 5\n",
            "-------------------------------\n",
            "loss: 0.992195  [   64 / 40000]\n",
            "loss: 0.662150  [ 6464 / 40000]\n",
            "loss: 1.020645  [12864 / 40000]\n",
            "loss: 0.903340  [19264 / 40000]\n",
            "loss: 0.843788  [25664 / 40000]\n",
            "loss: 0.936117  [32064 / 40000]\n",
            "loss: 1.134481  [38464 / 40000]\n",
            "\n",
            "Validation set: \n",
            "  Accuracy: 60.5%, Avg loss: 1.139000 \n",
            "\n",
            "Epoch 6\n",
            "-------------------------------\n",
            "loss: 1.341680  [   64 / 40000]\n",
            "loss: 1.036327  [ 6464 / 40000]\n",
            "loss: 1.008595  [12864 / 40000]\n",
            "loss: 1.026354  [19264 / 40000]\n",
            "loss: 1.016091  [25664 / 40000]\n",
            "loss: 1.243921  [32064 / 40000]\n",
            "loss: 0.909669  [38464 / 40000]\n",
            "\n",
            "Validation set: \n",
            "  Accuracy: 58.4%, Avg loss: 1.228696 \n",
            "\n",
            "Epoch 7\n",
            "-------------------------------\n",
            "loss: 0.909599  [   64 / 40000]\n",
            "loss: 1.025628  [ 6464 / 40000]\n",
            "loss: 1.110672  [12864 / 40000]\n",
            "loss: 1.017119  [19264 / 40000]\n",
            "loss: 0.824185  [25664 / 40000]\n",
            "loss: 1.248397  [32064 / 40000]\n",
            "loss: 0.941956  [38464 / 40000]\n",
            "\n",
            "Validation set: \n",
            "  Accuracy: 58.1%, Avg loss: 1.219317 \n",
            "\n",
            "Epoch 8\n",
            "-------------------------------\n",
            "loss: 0.845580  [   64 / 40000]\n",
            "loss: 0.787024  [ 6464 / 40000]\n",
            "loss: 1.244962  [12864 / 40000]\n",
            "loss: 1.071909  [19264 / 40000]\n",
            "loss: 1.075443  [25664 / 40000]\n",
            "loss: 0.948078  [32064 / 40000]\n",
            "loss: 1.062313  [38464 / 40000]\n",
            "\n",
            "Validation set: \n",
            "  Accuracy: 51.8%, Avg loss: 1.512036 \n",
            "\n",
            "Epoch 9\n",
            "-------------------------------\n",
            "loss: 0.911385  [   64 / 40000]\n",
            "loss: 1.032109  [ 6464 / 40000]\n",
            "loss: 0.735405  [12864 / 40000]\n",
            "loss: 1.174812  [19264 / 40000]\n",
            "loss: 0.692787  [25664 / 40000]\n",
            "loss: 0.909551  [32064 / 40000]\n",
            "loss: 1.055401  [38464 / 40000]\n",
            "\n",
            "Validation set: \n",
            "  Accuracy: 60.0%, Avg loss: 1.171039 \n",
            "\n",
            "Epoch 10\n",
            "-------------------------------\n",
            "loss: 0.753512  [   64 / 40000]\n",
            "loss: 0.775792  [ 6464 / 40000]\n",
            "loss: 0.843833  [12864 / 40000]\n",
            "loss: 0.715454  [19264 / 40000]\n",
            "loss: 0.880880  [25664 / 40000]\n",
            "loss: 0.769119  [32064 / 40000]\n",
            "loss: 0.825130  [38464 / 40000]\n",
            "\n",
            "Validation set: \n",
            "  Accuracy: 58.4%, Avg loss: 1.227019 \n",
            "\n"
          ]
        }
      ],
      "source": [
        "modelLeNet5 = LeNet5().to(device) # creating an instance of the classe and moving it to the device\n",
        "loss_fn=nn.CrossEntropyLoss()\n",
        "optimizer = torch.optim.Adam(params=modelLeNet5.parameters(), lr=1e-3) #adaptative moment optimizer\n",
        "epochs =10\n",
        "\n",
        "for t in range(epochs):\n",
        "    print(f\"Epoch {t+1}\\n-------------------------------\")\n",
        "    train_loop(train_dataloader, modelLeNet5, loss_fn, optimizer, device)\n",
        "    evaluate_loop(val_dataloader, modelLeNet5, loss_fn, device)"
      ]
    },
    {
      "cell_type": "code",
      "source": [
        "#Evaluating on the test dataloader\n",
        "print(\"model MLP5\")\n",
        "evaluate_loop(test_dataloader, modelMLP5, loss_fn, device, set_= 'Test')\n",
        "print(\"model MLP5BN\")\n",
        "evaluate_loop(test_dataloader, modelMLP5BN, loss_fn, device, set_= 'Test' )\n",
        "print(\"model LeNet5\")\n",
        "evaluate_loop(test_dataloader, modelLeNet5, loss_fn, device, set_= 'Test' )"
      ],
      "metadata": {
        "colab": {
          "base_uri": "https://localhost:8080/"
        },
        "id": "KMcszfCrgMld",
        "outputId": "65597fda-b5c4-4952-c962-2e146c99c73f"
      },
      "id": "KMcszfCrgMld",
      "execution_count": null,
      "outputs": [
        {
          "output_type": "stream",
          "name": "stdout",
          "text": [
            "model MLP5\n",
            "\n",
            "Test set: \n",
            "  Accuracy: 34.0%, Avg loss: 1.840185 \n",
            "\n",
            "model MLP5BN\n",
            "\n",
            "Test set: \n",
            "  Accuracy: 40.4%, Avg loss: 1.717322 \n",
            "\n",
            "model LeNet5\n",
            "\n",
            "Test set: \n",
            "  Accuracy: 57.7%, Avg loss: 1.241938 \n",
            "\n"
          ]
        }
      ]
    },
    {
      "cell_type": "markdown",
      "source": [
        "the LeNet model performs better than the previous two models since the accuracy and the average loss are better"
      ],
      "metadata": {
        "id": "BLwT403MY_v3"
      },
      "id": "BLwT403MY_v3"
    },
    {
      "cell_type": "markdown",
      "id": "87b5f75c-79c9-4058-995c-c73d176ab7f8",
      "metadata": {
        "id": "87b5f75c-79c9-4058-995c-c73d176ab7f8"
      },
      "source": [
        "## Exercise 10\n",
        "Below is the same dataset but with colors. For expressing the intensities for the red, green, blue colors, each image has 3 *channels* now, which is why the shape of each image is `(3, 32, 32)`.\n",
        "The goal of this exercise is to train a classifier using `LeNet5`, but the `LeNet5` class defined above assumes that input images have only one channel, so we need to rewrite the class a bit. For that, read [the documentation for `torch.nn.Conv2d` class](https://pytorch.org/docs/stable/generated/torch.nn.Conv2d.html?highlight=conv2d#torch.nn.Conv2d) to understand how to modify the first layer of the `LeNet5` class. Write code for this modified class, naming it `LeNet5Color`."
      ]
    },
    {
      "cell_type": "code",
      "execution_count": null,
      "id": "71796fb0-1f80-4a5c-9753-4648c48ad3ad",
      "metadata": {
        "id": "71796fb0-1f80-4a5c-9753-4648c48ad3ad",
        "colab": {
          "base_uri": "https://localhost:8080/",
          "height": 207
        },
        "outputId": "fda457ac-78b0-43bd-b7b1-8da8af63bdc6"
      },
      "outputs": [
        {
          "output_type": "stream",
          "name": "stdout",
          "text": [
            "['truck', 'truck', 'deer', 'automobile', 'automobile']\n"
          ]
        },
        {
          "output_type": "display_data",
          "data": {
            "text/plain": [
              "<Figure size 1000x200 with 5 Axes>"
            ],
            "image/png": "[encoded data removed]"
          },
          "metadata": {}
        },
        {
          "output_type": "stream",
          "name": "stdout",
          "text": [
            "Shape of an image: (3, 32, 32)\n"
          ]
        }
      ],
      "source": [
        "x_train_val_np_color, y_train_val_np_color = load_cifar10(train=True, color=True)\n",
        "x_test_np_color, y_test_np_color = load_cifar10(train=False, color=True)\n",
        "plot_images(x_train_val_np_color, y_train_val_np_color, rows=1, cols=5, color=True)\n",
        "print(f'Shape of an image: {x_train_val_np_color[0].shape}')"
      ]
    },
    {
      "cell_type": "markdown",
      "source": [
        "Solution of exercise 10"
      ],
      "metadata": {
        "id": "uwx9veIn4c4b"
      },
      "id": "uwx9veIn4c4b"
    },
    {
      "cell_type": "code",
      "execution_count": null,
      "id": "2c1aa3d8-0d79-4747-828c-7ac91393712e",
      "metadata": {
        "id": "2c1aa3d8-0d79-4747-828c-7ac91393712e"
      },
      "outputs": [],
      "source": [
        "class LeNet5Color(nn.Module):\n",
        "    def __init__(self, num_classes=10):\n",
        "        super(LeNet5Color, self).__init__()\n",
        "        self.layer1 = nn.Sequential(\n",
        "            nn.Conv2d(3, 6, kernel_size=5, stride=1, padding=0), #we modify the first parameter(in_channels) from 1 to 3 because each image has 3 channels now\n",
        "            nn.BatchNorm2d(6),\n",
        "            nn.ReLU(),\n",
        "            nn.MaxPool2d(kernel_size=2, stride=2))\n",
        "        self.layer2 = nn.Sequential(\n",
        "            nn.Conv2d(6, 16, kernel_size=5, stride=1, padding=0),\n",
        "            nn.BatchNorm2d(16),\n",
        "            nn.ReLU(),\n",
        "            nn.MaxPool2d(kernel_size=2, stride=2))\n",
        "        self.flatten = nn.Flatten()\n",
        "        self.fc = nn.Linear(400, 120)\n",
        "        self.relu = nn.ReLU()\n",
        "        self.fc1 = nn.Linear(120, 84)\n",
        "        self.relu1 = nn.ReLU()\n",
        "        self.fc2 = nn.Linear(84, num_classes)\n",
        "\n",
        "    def forward(self, x):\n",
        "        out = self.layer1(x)\n",
        "        out = self.layer2(out)\n",
        "        out = self.flatten(out)\n",
        "        out = self.fc(out)\n",
        "        out = self.relu(out)\n",
        "        out = self.fc1(out)\n",
        "        out = self.relu1(out)\n",
        "        out = self.fc2(out)\n",
        "        return out"
      ]
    },
    {
      "cell_type": "markdown",
      "id": "6cd0acd0-b720-41e2-a6e4-0e7ac13070a1",
      "metadata": {
        "id": "6cd0acd0-b720-41e2-a6e4-0e7ac13070a1"
      },
      "source": [
        "## Exercise 11\n",
        "Split the data, create dataloaders, train an instance of `LeNet5Color`, and compare it with `LeNet5` using the test set."
      ]
    },
    {
      "cell_type": "markdown",
      "source": [
        "Solution of exercise 11"
      ],
      "metadata": {
        "id": "C-o2JzQxEsv-"
      },
      "id": "C-o2JzQxEsv-"
    },
    {
      "cell_type": "code",
      "execution_count": null,
      "id": "70673a87-abb2-4414-9c08-7aaf1c4a49cf",
      "metadata": {
        "id": "70673a87-abb2-4414-9c08-7aaf1c4a49cf",
        "colab": {
          "base_uri": "https://localhost:8080/"
        },
        "outputId": "37c146e8-1915-49fb-add8-9f08316b99da"
      },
      "outputs": [
        {
          "output_type": "stream",
          "name": "stderr",
          "text": [
            "<ipython-input-12-d19eb33125b3>:7: UserWarning: To copy construct from a tensor, it is recommended to use sourceTensor.clone().detach() or sourceTensor.clone().detach().requires_grad_(True), rather than torch.tensor(sourceTensor).\n",
            "  self.X = torch.tensor(X, dtype=torch.float32) # applying the transform ToTensor() and changing the dtype directly\n",
            "<ipython-input-12-d19eb33125b3>:8: UserWarning: To copy construct from a tensor, it is recommended to use sourceTensor.clone().detach() or sourceTensor.clone().detach().requires_grad_(True), rather than torch.tensor(sourceTensor).\n",
            "  self.y = torch.tensor(y, dtype=torch.int64) # applying the transform ToTensor() and changing the dtype directly\n"
          ]
        }
      ],
      "source": [
        "#Split data\n",
        "x_train_np_col, x_val_np_col, y_train_np_col, y_val_np_col = train_test_split(x_train_val_np_color, y_train_val_np_color, train_size=40000,\n",
        "                                                              stratify = y_train_val_np_color, random_state = 6)\n",
        "\n",
        "# create tensors\n",
        "x_train_col = torch.from_numpy(x_train_np_col).to(dtype=torch.float32)\n",
        "y_train_col = torch.from_numpy(y_train_np_col).to(dtype=torch.int64)\n",
        "x_val_col = torch.from_numpy(x_val_np_col).to(dtype=torch.float32)\n",
        "y_val_col = torch.from_numpy(y_val_np_col).to(dtype=torch.int64)\n",
        "x_test_col = torch.from_numpy(x_test_np_color).to(dtype=torch.float32)\n",
        "y_test_col = torch.from_numpy(y_test_np_color).to(dtype=torch.int64)\n",
        "\n",
        "#create dataloaders\n",
        "train_dataloader_color = DataLoader(CustomDataset(x_train_col, y_train_col), batch_size=64, shuffle=True)\n",
        "val_dataloader_color = DataLoader(CustomDataset(x_val_col, y_val_col), batch_size=64, shuffle=True)\n",
        "test_dataloader_color = DataLoader(CustomDataset(x_test_col, y_test_col), batch_size=64, shuffle=True)\n"
      ]
    },
    {
      "cell_type": "code",
      "source": [
        "modelLeNet5Color = LeNet5Color().to(device) # an instance of LeNet5Color moved to device\n",
        "loss_fn=nn.CrossEntropyLoss()\n",
        "optimizer = torch.optim.Adam(params=modelLeNet5Color.parameters(), lr=1e-3) #adaptative moment optimizer\n",
        "\n",
        "#train the model\n",
        "for t in range(epochs):\n",
        "    print(f\"Epoch {t+1}\\n-------------------------------\")\n",
        "    train_loop(train_dataloader_color, modelLeNet5Color, loss_fn, optimizer, device)\n",
        "    evaluate_loop(val_dataloader_color, modelLeNet5Color, loss_fn, device)"
      ],
      "metadata": {
        "colab": {
          "base_uri": "https://localhost:8080/"
        },
        "id": "yOlA8nbfEmXE",
        "outputId": "6956bd22-c76e-405a-ae8a-6b8119f2ae46"
      },
      "id": "yOlA8nbfEmXE",
      "execution_count": null,
      "outputs": [
        {
          "output_type": "stream",
          "name": "stdout",
          "text": [
            "Epoch 1\n",
            "-------------------------------\n",
            "loss: 2.321281  [   64 / 40000]\n",
            "loss: 1.544191  [ 6464 / 40000]\n",
            "loss: 1.296797  [12864 / 40000]\n",
            "loss: 1.376937  [19264 / 40000]\n",
            "loss: 1.503104  [25664 / 40000]\n",
            "loss: 1.311227  [32064 / 40000]\n",
            "loss: 1.429634  [38464 / 40000]\n",
            "\n",
            "Validation set: \n",
            "  Accuracy: 46.1%, Avg loss: 1.493958 \n",
            "\n",
            "Epoch 2\n",
            "-------------------------------\n",
            "loss: 1.270095  [   64 / 40000]\n",
            "loss: 1.327270  [ 6464 / 40000]\n",
            "loss: 1.208655  [12864 / 40000]\n",
            "loss: 1.144135  [19264 / 40000]\n",
            "loss: 1.316510  [25664 / 40000]\n",
            "loss: 1.229648  [32064 / 40000]\n",
            "loss: 1.132710  [38464 / 40000]\n",
            "\n",
            "Validation set: \n",
            "  Accuracy: 53.8%, Avg loss: 1.298975 \n",
            "\n",
            "Epoch 3\n",
            "-------------------------------\n",
            "loss: 1.086879  [   64 / 40000]\n",
            "loss: 0.877719  [ 6464 / 40000]\n",
            "loss: 1.180376  [12864 / 40000]\n",
            "loss: 1.239689  [19264 / 40000]\n",
            "loss: 1.179618  [25664 / 40000]\n",
            "loss: 1.146882  [32064 / 40000]\n",
            "loss: 1.242786  [38464 / 40000]\n",
            "\n",
            "Validation set: \n",
            "  Accuracy: 56.8%, Avg loss: 1.237095 \n",
            "\n",
            "Epoch 4\n",
            "-------------------------------\n",
            "loss: 1.089085  [   64 / 40000]\n",
            "loss: 1.094356  [ 6464 / 40000]\n",
            "loss: 1.106365  [12864 / 40000]\n",
            "loss: 0.964995  [19264 / 40000]\n",
            "loss: 1.026598  [25664 / 40000]\n",
            "loss: 1.074049  [32064 / 40000]\n",
            "loss: 1.024468  [38464 / 40000]\n",
            "\n",
            "Validation set: \n",
            "  Accuracy: 56.2%, Avg loss: 1.244109 \n",
            "\n",
            "Epoch 5\n",
            "-------------------------------\n",
            "loss: 0.933936  [   64 / 40000]\n",
            "loss: 0.913642  [ 6464 / 40000]\n",
            "loss: 1.015743  [12864 / 40000]\n",
            "loss: 1.084138  [19264 / 40000]\n",
            "loss: 0.880095  [25664 / 40000]\n",
            "loss: 1.081092  [32064 / 40000]\n",
            "loss: 0.906129  [38464 / 40000]\n",
            "\n",
            "Validation set: \n",
            "  Accuracy: 60.3%, Avg loss: 1.133188 \n",
            "\n",
            "Epoch 6\n",
            "-------------------------------\n",
            "loss: 0.904146  [   64 / 40000]\n",
            "loss: 0.707465  [ 6464 / 40000]\n",
            "loss: 0.728375  [12864 / 40000]\n",
            "loss: 1.038423  [19264 / 40000]\n",
            "loss: 1.206799  [25664 / 40000]\n",
            "loss: 1.088953  [32064 / 40000]\n",
            "loss: 1.078311  [38464 / 40000]\n",
            "\n",
            "Validation set: \n",
            "  Accuracy: 60.9%, Avg loss: 1.134867 \n",
            "\n",
            "Epoch 7\n",
            "-------------------------------\n",
            "loss: 1.090377  [   64 / 40000]\n",
            "loss: 0.775121  [ 6464 / 40000]\n",
            "loss: 0.944519  [12864 / 40000]\n",
            "loss: 1.225853  [19264 / 40000]\n",
            "loss: 0.925776  [25664 / 40000]\n",
            "loss: 0.886493  [32064 / 40000]\n",
            "loss: 0.947184  [38464 / 40000]\n",
            "\n",
            "Validation set: \n",
            "  Accuracy: 58.2%, Avg loss: 1.207579 \n",
            "\n",
            "Epoch 8\n",
            "-------------------------------\n",
            "loss: 0.865678  [   64 / 40000]\n",
            "loss: 0.815734  [ 6464 / 40000]\n",
            "loss: 0.814611  [12864 / 40000]\n",
            "loss: 0.908237  [19264 / 40000]\n",
            "loss: 1.061519  [25664 / 40000]\n",
            "loss: 0.780533  [32064 / 40000]\n",
            "loss: 1.012808  [38464 / 40000]\n",
            "\n",
            "Validation set: \n",
            "  Accuracy: 57.5%, Avg loss: 1.292747 \n",
            "\n",
            "Epoch 9\n",
            "-------------------------------\n",
            "loss: 0.973550  [   64 / 40000]\n",
            "loss: 0.808322  [ 6464 / 40000]\n",
            "loss: 0.753405  [12864 / 40000]\n",
            "loss: 0.902016  [19264 / 40000]\n",
            "loss: 0.760844  [25664 / 40000]\n",
            "loss: 0.918252  [32064 / 40000]\n",
            "loss: 0.779993  [38464 / 40000]\n",
            "\n",
            "Validation set: \n",
            "  Accuracy: 59.0%, Avg loss: 1.264612 \n",
            "\n",
            "Epoch 10\n",
            "-------------------------------\n",
            "loss: 0.718475  [   64 / 40000]\n",
            "loss: 0.859372  [ 6464 / 40000]\n",
            "loss: 0.738936  [12864 / 40000]\n",
            "loss: 0.944914  [19264 / 40000]\n",
            "loss: 0.802655  [25664 / 40000]\n",
            "loss: 0.899347  [32064 / 40000]\n",
            "loss: 0.795177  [38464 / 40000]\n",
            "\n",
            "Validation set: \n",
            "  Accuracy: 62.8%, Avg loss: 1.076955 \n",
            "\n"
          ]
        }
      ]
    },
    {
      "cell_type": "code",
      "source": [
        "#Evaluating on the test dataloader without colors\n",
        "\n",
        "print(\"model LeNet5\")\n",
        "evaluate_loop(test_dataloader, modelLeNet5, loss_fn, device, set_= 'Test' )\n",
        "\n",
        "print(\"model LeNet5Color\")\n",
        "evaluate_loop(test_dataloader, modelLeNet5Color, loss_fn, device, set_= 'Test' )"
      ],
      "metadata": {
        "colab": {
          "base_uri": "https://localhost:8080/",
          "height": 483
        },
        "id": "aPAbi-cYhYP1",
        "outputId": "21db3a47-06d5-435f-ca3c-ac8c96ab6c81"
      },
      "id": "aPAbi-cYhYP1",
      "execution_count": null,
      "outputs": [
        {
          "output_type": "stream",
          "name": "stdout",
          "text": [
            "model LeNet5\n",
            "\n",
            "Test set: \n",
            "  Accuracy: 57.7%, Avg loss: 1.245549 \n",
            "\n",
            "model LeNet5Color\n"
          ]
        },
        {
          "output_type": "error",
          "ename": "RuntimeError",
          "evalue": "ignored",
          "traceback": [
            "\u001b[0;31m---------------------------------------------------------------------------\u001b[0m",
            "\u001b[0;31mRuntimeError\u001b[0m                              Traceback (most recent call last)",
            "\u001b[0;32m<ipython-input-35-e69ef9f4d499>\u001b[0m in \u001b[0;36m<cell line: 7>\u001b[0;34m()\u001b[0m\n\u001b[1;32m      5\u001b[0m \u001b[0;34m\u001b[0m\u001b[0m\n\u001b[1;32m      6\u001b[0m \u001b[0mprint\u001b[0m\u001b[0;34m(\u001b[0m\u001b[0;34m\"model LeNet5Color\"\u001b[0m\u001b[0;34m)\u001b[0m\u001b[0;34m\u001b[0m\u001b[0;34m\u001b[0m\u001b[0m\n\u001b[0;32m----> 7\u001b[0;31m \u001b[0mevaluate_loop\u001b[0m\u001b[0;34m(\u001b[0m\u001b[0mtest_dataloader\u001b[0m\u001b[0;34m,\u001b[0m \u001b[0mmodelLeNet5Color\u001b[0m\u001b[0;34m,\u001b[0m \u001b[0mloss_fn\u001b[0m\u001b[0;34m,\u001b[0m \u001b[0mdevice\u001b[0m\u001b[0;34m,\u001b[0m \u001b[0mset_\u001b[0m\u001b[0;34m=\u001b[0m \u001b[0;34m'Test'\u001b[0m \u001b[0;34m)\u001b[0m\u001b[0;34m\u001b[0m\u001b[0;34m\u001b[0m\u001b[0m\n\u001b[0m",
            "\u001b[0;32m<ipython-input-17-4d7eb7a8b655>\u001b[0m in \u001b[0;36mevaluate_loop\u001b[0;34m(dataloader, model, loss_fn, device, set_)\u001b[0m\n\u001b[1;32m     34\u001b[0m             \u001b[0mX\u001b[0m \u001b[0;34m=\u001b[0m \u001b[0mX\u001b[0m\u001b[0;34m.\u001b[0m\u001b[0mto\u001b[0m\u001b[0;34m(\u001b[0m\u001b[0mdevice\u001b[0m\u001b[0;34m)\u001b[0m\u001b[0;34m\u001b[0m\u001b[0;34m\u001b[0m\u001b[0m\n\u001b[1;32m     35\u001b[0m             \u001b[0my\u001b[0m \u001b[0;34m=\u001b[0m \u001b[0my\u001b[0m\u001b[0;34m.\u001b[0m\u001b[0mto\u001b[0m\u001b[0;34m(\u001b[0m\u001b[0mdevice\u001b[0m\u001b[0;34m)\u001b[0m\u001b[0;34m\u001b[0m\u001b[0;34m\u001b[0m\u001b[0m\n\u001b[0;32m---> 36\u001b[0;31m             \u001b[0mpred\u001b[0m \u001b[0;34m=\u001b[0m \u001b[0mmodel\u001b[0m\u001b[0;34m(\u001b[0m\u001b[0mX\u001b[0m\u001b[0;34m)\u001b[0m\u001b[0;34m\u001b[0m\u001b[0;34m\u001b[0m\u001b[0m\n\u001b[0m\u001b[1;32m     37\u001b[0m             \u001b[0mtest_loss\u001b[0m \u001b[0;34m+=\u001b[0m \u001b[0mloss_fn\u001b[0m\u001b[0;34m(\u001b[0m\u001b[0mpred\u001b[0m\u001b[0;34m,\u001b[0m \u001b[0my\u001b[0m\u001b[0;34m)\u001b[0m\u001b[0;34m.\u001b[0m\u001b[0mitem\u001b[0m\u001b[0;34m(\u001b[0m\u001b[0;34m)\u001b[0m\u001b[0;34m\u001b[0m\u001b[0;34m\u001b[0m\u001b[0m\n\u001b[1;32m     38\u001b[0m             \u001b[0mcorrect\u001b[0m \u001b[0;34m+=\u001b[0m \u001b[0;34m(\u001b[0m\u001b[0mpred\u001b[0m\u001b[0;34m.\u001b[0m\u001b[0margmax\u001b[0m\u001b[0;34m(\u001b[0m\u001b[0;36m1\u001b[0m\u001b[0;34m)\u001b[0m \u001b[0;34m==\u001b[0m \u001b[0my\u001b[0m\u001b[0;34m)\u001b[0m\u001b[0;34m.\u001b[0m\u001b[0mtype\u001b[0m\u001b[0;34m(\u001b[0m\u001b[0mtorch\u001b[0m\u001b[0;34m.\u001b[0m\u001b[0mfloat\u001b[0m\u001b[0;34m)\u001b[0m\u001b[0;34m.\u001b[0m\u001b[0msum\u001b[0m\u001b[0;34m(\u001b[0m\u001b[0;34m)\u001b[0m\u001b[0;34m.\u001b[0m\u001b[0mitem\u001b[0m\u001b[0;34m(\u001b[0m\u001b[0;34m)\u001b[0m\u001b[0;34m\u001b[0m\u001b[0;34m\u001b[0m\u001b[0m\n",
            "\u001b[0;32m/usr/local/lib/python3.10/dist-packages/torch/nn/modules/module.py\u001b[0m in \u001b[0;36m_call_impl\u001b[0;34m(self, *args, **kwargs)\u001b[0m\n\u001b[1;32m   1499\u001b[0m                 \u001b[0;32mor\u001b[0m \u001b[0m_global_backward_pre_hooks\u001b[0m \u001b[0;32mor\u001b[0m \u001b[0m_global_backward_hooks\u001b[0m\u001b[0;34m\u001b[0m\u001b[0;34m\u001b[0m\u001b[0m\n\u001b[1;32m   1500\u001b[0m                 or _global_forward_hooks or _global_forward_pre_hooks):\n\u001b[0;32m-> 1501\u001b[0;31m             \u001b[0;32mreturn\u001b[0m \u001b[0mforward_call\u001b[0m\u001b[0;34m(\u001b[0m\u001b[0;34m*\u001b[0m\u001b[0margs\u001b[0m\u001b[0;34m,\u001b[0m \u001b[0;34m**\u001b[0m\u001b[0mkwargs\u001b[0m\u001b[0;34m)\u001b[0m\u001b[0;34m\u001b[0m\u001b[0;34m\u001b[0m\u001b[0m\n\u001b[0m\u001b[1;32m   1502\u001b[0m         \u001b[0;31m# Do not call functions when jit is used\u001b[0m\u001b[0;34m\u001b[0m\u001b[0;34m\u001b[0m\u001b[0m\n\u001b[1;32m   1503\u001b[0m         \u001b[0mfull_backward_hooks\u001b[0m\u001b[0;34m,\u001b[0m \u001b[0mnon_full_backward_hooks\u001b[0m \u001b[0;34m=\u001b[0m \u001b[0;34m[\u001b[0m\u001b[0;34m]\u001b[0m\u001b[0;34m,\u001b[0m \u001b[0;34m[\u001b[0m\u001b[0;34m]\u001b[0m\u001b[0;34m\u001b[0m\u001b[0;34m\u001b[0m\u001b[0m\n",
            "\u001b[0;32m<ipython-input-32-7297514dc94c>\u001b[0m in \u001b[0;36mforward\u001b[0;34m(self, x)\u001b[0m\n\u001b[1;32m     20\u001b[0m \u001b[0;34m\u001b[0m\u001b[0m\n\u001b[1;32m     21\u001b[0m     \u001b[0;32mdef\u001b[0m \u001b[0mforward\u001b[0m\u001b[0;34m(\u001b[0m\u001b[0mself\u001b[0m\u001b[0;34m,\u001b[0m \u001b[0mx\u001b[0m\u001b[0;34m)\u001b[0m\u001b[0;34m:\u001b[0m\u001b[0;34m\u001b[0m\u001b[0;34m\u001b[0m\u001b[0m\n\u001b[0;32m---> 22\u001b[0;31m         \u001b[0mout\u001b[0m \u001b[0;34m=\u001b[0m \u001b[0mself\u001b[0m\u001b[0;34m.\u001b[0m\u001b[0mlayer1\u001b[0m\u001b[0;34m(\u001b[0m\u001b[0mx\u001b[0m\u001b[0;34m)\u001b[0m\u001b[0;34m\u001b[0m\u001b[0;34m\u001b[0m\u001b[0m\n\u001b[0m\u001b[1;32m     23\u001b[0m         \u001b[0mout\u001b[0m \u001b[0;34m=\u001b[0m \u001b[0mself\u001b[0m\u001b[0;34m.\u001b[0m\u001b[0mlayer2\u001b[0m\u001b[0;34m(\u001b[0m\u001b[0mout\u001b[0m\u001b[0;34m)\u001b[0m\u001b[0;34m\u001b[0m\u001b[0;34m\u001b[0m\u001b[0m\n\u001b[1;32m     24\u001b[0m         \u001b[0mout\u001b[0m \u001b[0;34m=\u001b[0m \u001b[0mself\u001b[0m\u001b[0;34m.\u001b[0m\u001b[0mflatten\u001b[0m\u001b[0;34m(\u001b[0m\u001b[0mout\u001b[0m\u001b[0;34m)\u001b[0m\u001b[0;34m\u001b[0m\u001b[0;34m\u001b[0m\u001b[0m\n",
            "\u001b[0;32m/usr/local/lib/python3.10/dist-packages/torch/nn/modules/module.py\u001b[0m in \u001b[0;36m_call_impl\u001b[0;34m(self, *args, **kwargs)\u001b[0m\n\u001b[1;32m   1499\u001b[0m                 \u001b[0;32mor\u001b[0m \u001b[0m_global_backward_pre_hooks\u001b[0m \u001b[0;32mor\u001b[0m \u001b[0m_global_backward_hooks\u001b[0m\u001b[0;34m\u001b[0m\u001b[0;34m\u001b[0m\u001b[0m\n\u001b[1;32m   1500\u001b[0m                 or _global_forward_hooks or _global_forward_pre_hooks):\n\u001b[0;32m-> 1501\u001b[0;31m             \u001b[0;32mreturn\u001b[0m \u001b[0mforward_call\u001b[0m\u001b[0;34m(\u001b[0m\u001b[0;34m*\u001b[0m\u001b[0margs\u001b[0m\u001b[0;34m,\u001b[0m \u001b[0;34m**\u001b[0m\u001b[0mkwargs\u001b[0m\u001b[0;34m)\u001b[0m\u001b[0;34m\u001b[0m\u001b[0;34m\u001b[0m\u001b[0m\n\u001b[0m\u001b[1;32m   1502\u001b[0m         \u001b[0;31m# Do not call functions when jit is used\u001b[0m\u001b[0;34m\u001b[0m\u001b[0;34m\u001b[0m\u001b[0m\n\u001b[1;32m   1503\u001b[0m         \u001b[0mfull_backward_hooks\u001b[0m\u001b[0;34m,\u001b[0m \u001b[0mnon_full_backward_hooks\u001b[0m \u001b[0;34m=\u001b[0m \u001b[0;34m[\u001b[0m\u001b[0;34m]\u001b[0m\u001b[0;34m,\u001b[0m \u001b[0;34m[\u001b[0m\u001b[0;34m]\u001b[0m\u001b[0;34m\u001b[0m\u001b[0;34m\u001b[0m\u001b[0m\n",
            "\u001b[0;32m/usr/local/lib/python3.10/dist-packages/torch/nn/modules/container.py\u001b[0m in \u001b[0;36mforward\u001b[0;34m(self, input)\u001b[0m\n\u001b[1;32m    215\u001b[0m     \u001b[0;32mdef\u001b[0m \u001b[0mforward\u001b[0m\u001b[0;34m(\u001b[0m\u001b[0mself\u001b[0m\u001b[0;34m,\u001b[0m \u001b[0minput\u001b[0m\u001b[0;34m)\u001b[0m\u001b[0;34m:\u001b[0m\u001b[0;34m\u001b[0m\u001b[0;34m\u001b[0m\u001b[0m\n\u001b[1;32m    216\u001b[0m         \u001b[0;32mfor\u001b[0m \u001b[0mmodule\u001b[0m \u001b[0;32min\u001b[0m \u001b[0mself\u001b[0m\u001b[0;34m:\u001b[0m\u001b[0;34m\u001b[0m\u001b[0;34m\u001b[0m\u001b[0m\n\u001b[0;32m--> 217\u001b[0;31m             \u001b[0minput\u001b[0m \u001b[0;34m=\u001b[0m \u001b[0mmodule\u001b[0m\u001b[0;34m(\u001b[0m\u001b[0minput\u001b[0m\u001b[0;34m)\u001b[0m\u001b[0;34m\u001b[0m\u001b[0;34m\u001b[0m\u001b[0m\n\u001b[0m\u001b[1;32m    218\u001b[0m         \u001b[0;32mreturn\u001b[0m \u001b[0minput\u001b[0m\u001b[0;34m\u001b[0m\u001b[0;34m\u001b[0m\u001b[0m\n\u001b[1;32m    219\u001b[0m \u001b[0;34m\u001b[0m\u001b[0m\n",
            "\u001b[0;32m/usr/local/lib/python3.10/dist-packages/torch/nn/modules/module.py\u001b[0m in \u001b[0;36m_call_impl\u001b[0;34m(self, *args, **kwargs)\u001b[0m\n\u001b[1;32m   1499\u001b[0m                 \u001b[0;32mor\u001b[0m \u001b[0m_global_backward_pre_hooks\u001b[0m \u001b[0;32mor\u001b[0m \u001b[0m_global_backward_hooks\u001b[0m\u001b[0;34m\u001b[0m\u001b[0;34m\u001b[0m\u001b[0m\n\u001b[1;32m   1500\u001b[0m                 or _global_forward_hooks or _global_forward_pre_hooks):\n\u001b[0;32m-> 1501\u001b[0;31m             \u001b[0;32mreturn\u001b[0m \u001b[0mforward_call\u001b[0m\u001b[0;34m(\u001b[0m\u001b[0;34m*\u001b[0m\u001b[0margs\u001b[0m\u001b[0;34m,\u001b[0m \u001b[0;34m**\u001b[0m\u001b[0mkwargs\u001b[0m\u001b[0;34m)\u001b[0m\u001b[0;34m\u001b[0m\u001b[0;34m\u001b[0m\u001b[0m\n\u001b[0m\u001b[1;32m   1502\u001b[0m         \u001b[0;31m# Do not call functions when jit is used\u001b[0m\u001b[0;34m\u001b[0m\u001b[0;34m\u001b[0m\u001b[0m\n\u001b[1;32m   1503\u001b[0m         \u001b[0mfull_backward_hooks\u001b[0m\u001b[0;34m,\u001b[0m \u001b[0mnon_full_backward_hooks\u001b[0m \u001b[0;34m=\u001b[0m \u001b[0;34m[\u001b[0m\u001b[0;34m]\u001b[0m\u001b[0;34m,\u001b[0m \u001b[0;34m[\u001b[0m\u001b[0;34m]\u001b[0m\u001b[0;34m\u001b[0m\u001b[0;34m\u001b[0m\u001b[0m\n",
            "\u001b[0;32m/usr/local/lib/python3.10/dist-packages/torch/nn/modules/conv.py\u001b[0m in \u001b[0;36mforward\u001b[0;34m(self, input)\u001b[0m\n\u001b[1;32m    461\u001b[0m \u001b[0;34m\u001b[0m\u001b[0m\n\u001b[1;32m    462\u001b[0m     \u001b[0;32mdef\u001b[0m \u001b[0mforward\u001b[0m\u001b[0;34m(\u001b[0m\u001b[0mself\u001b[0m\u001b[0;34m,\u001b[0m \u001b[0minput\u001b[0m\u001b[0;34m:\u001b[0m \u001b[0mTensor\u001b[0m\u001b[0;34m)\u001b[0m \u001b[0;34m->\u001b[0m \u001b[0mTensor\u001b[0m\u001b[0;34m:\u001b[0m\u001b[0;34m\u001b[0m\u001b[0;34m\u001b[0m\u001b[0m\n\u001b[0;32m--> 463\u001b[0;31m         \u001b[0;32mreturn\u001b[0m \u001b[0mself\u001b[0m\u001b[0;34m.\u001b[0m\u001b[0m_conv_forward\u001b[0m\u001b[0;34m(\u001b[0m\u001b[0minput\u001b[0m\u001b[0;34m,\u001b[0m \u001b[0mself\u001b[0m\u001b[0;34m.\u001b[0m\u001b[0mweight\u001b[0m\u001b[0;34m,\u001b[0m \u001b[0mself\u001b[0m\u001b[0;34m.\u001b[0m\u001b[0mbias\u001b[0m\u001b[0;34m)\u001b[0m\u001b[0;34m\u001b[0m\u001b[0;34m\u001b[0m\u001b[0m\n\u001b[0m\u001b[1;32m    464\u001b[0m \u001b[0;34m\u001b[0m\u001b[0m\n\u001b[1;32m    465\u001b[0m \u001b[0;32mclass\u001b[0m \u001b[0mConv3d\u001b[0m\u001b[0;34m(\u001b[0m\u001b[0m_ConvNd\u001b[0m\u001b[0;34m)\u001b[0m\u001b[0;34m:\u001b[0m\u001b[0;34m\u001b[0m\u001b[0;34m\u001b[0m\u001b[0m\n",
            "\u001b[0;32m/usr/local/lib/python3.10/dist-packages/torch/nn/modules/conv.py\u001b[0m in \u001b[0;36m_conv_forward\u001b[0;34m(self, input, weight, bias)\u001b[0m\n\u001b[1;32m    457\u001b[0m                             \u001b[0mweight\u001b[0m\u001b[0;34m,\u001b[0m \u001b[0mbias\u001b[0m\u001b[0;34m,\u001b[0m \u001b[0mself\u001b[0m\u001b[0;34m.\u001b[0m\u001b[0mstride\u001b[0m\u001b[0;34m,\u001b[0m\u001b[0;34m\u001b[0m\u001b[0;34m\u001b[0m\u001b[0m\n\u001b[1;32m    458\u001b[0m                             _pair(0), self.dilation, self.groups)\n\u001b[0;32m--> 459\u001b[0;31m         return F.conv2d(input, weight, bias, self.stride,\n\u001b[0m\u001b[1;32m    460\u001b[0m                         self.padding, self.dilation, self.groups)\n\u001b[1;32m    461\u001b[0m \u001b[0;34m\u001b[0m\u001b[0m\n",
            "\u001b[0;31mRuntimeError\u001b[0m: Given groups=1, weight of size [6, 3, 5, 5], expected input[64, 1, 32, 32] to have 3 channels, but got 1 channels instead"
          ]
        }
      ]
    },
    {
      "cell_type": "code",
      "source": [
        "#Evaluating on the test dataloader with colors\n",
        "\n",
        "print(\"model LeNet5\")\n",
        "evaluate_loop(test_dataloader_color, modelLeNet5, loss_fn, device, set_= 'Test' )\n",
        "\n",
        "print(\"model LeNet5Color\")\n",
        "evaluate_loop(test_dataloader_color, modelLeNet5Color, loss_fn, device, set_= 'Test' )"
      ],
      "metadata": {
        "colab": {
          "base_uri": "https://localhost:8080/",
          "height": 427
        },
        "id": "O1jPemmajxkb",
        "outputId": "4bbf4b40-6cd4-498a-b693-034fe2064877"
      },
      "id": "O1jPemmajxkb",
      "execution_count": null,
      "outputs": [
        {
          "output_type": "stream",
          "name": "stdout",
          "text": [
            "model LeNet5\n"
          ]
        },
        {
          "output_type": "error",
          "ename": "RuntimeError",
          "evalue": "ignored",
          "traceback": [
            "\u001b[0;31m---------------------------------------------------------------------------\u001b[0m",
            "\u001b[0;31mRuntimeError\u001b[0m                              Traceback (most recent call last)",
            "\u001b[0;32m<ipython-input-36-e5581110aa65>\u001b[0m in \u001b[0;36m<cell line: 4>\u001b[0;34m()\u001b[0m\n\u001b[1;32m      2\u001b[0m \u001b[0;34m\u001b[0m\u001b[0m\n\u001b[1;32m      3\u001b[0m \u001b[0mprint\u001b[0m\u001b[0;34m(\u001b[0m\u001b[0;34m\"model LeNet5\"\u001b[0m\u001b[0;34m)\u001b[0m\u001b[0;34m\u001b[0m\u001b[0;34m\u001b[0m\u001b[0m\n\u001b[0;32m----> 4\u001b[0;31m \u001b[0mevaluate_loop\u001b[0m\u001b[0;34m(\u001b[0m\u001b[0mtest_dataloader_color\u001b[0m\u001b[0;34m,\u001b[0m \u001b[0mmodelLeNet5\u001b[0m\u001b[0;34m,\u001b[0m \u001b[0mloss_fn\u001b[0m\u001b[0;34m,\u001b[0m \u001b[0mdevice\u001b[0m\u001b[0;34m,\u001b[0m \u001b[0mset_\u001b[0m\u001b[0;34m=\u001b[0m \u001b[0;34m'Test'\u001b[0m \u001b[0;34m)\u001b[0m\u001b[0;34m\u001b[0m\u001b[0;34m\u001b[0m\u001b[0m\n\u001b[0m\u001b[1;32m      5\u001b[0m \u001b[0;34m\u001b[0m\u001b[0m\n\u001b[1;32m      6\u001b[0m \u001b[0mprint\u001b[0m\u001b[0;34m(\u001b[0m\u001b[0;34m\"model LeNet5Color\"\u001b[0m\u001b[0;34m)\u001b[0m\u001b[0;34m\u001b[0m\u001b[0;34m\u001b[0m\u001b[0m\n",
            "\u001b[0;32m<ipython-input-17-4d7eb7a8b655>\u001b[0m in \u001b[0;36mevaluate_loop\u001b[0;34m(dataloader, model, loss_fn, device, set_)\u001b[0m\n\u001b[1;32m     34\u001b[0m             \u001b[0mX\u001b[0m \u001b[0;34m=\u001b[0m \u001b[0mX\u001b[0m\u001b[0;34m.\u001b[0m\u001b[0mto\u001b[0m\u001b[0;34m(\u001b[0m\u001b[0mdevice\u001b[0m\u001b[0;34m)\u001b[0m\u001b[0;34m\u001b[0m\u001b[0;34m\u001b[0m\u001b[0m\n\u001b[1;32m     35\u001b[0m             \u001b[0my\u001b[0m \u001b[0;34m=\u001b[0m \u001b[0my\u001b[0m\u001b[0;34m.\u001b[0m\u001b[0mto\u001b[0m\u001b[0;34m(\u001b[0m\u001b[0mdevice\u001b[0m\u001b[0;34m)\u001b[0m\u001b[0;34m\u001b[0m\u001b[0;34m\u001b[0m\u001b[0m\n\u001b[0;32m---> 36\u001b[0;31m             \u001b[0mpred\u001b[0m \u001b[0;34m=\u001b[0m \u001b[0mmodel\u001b[0m\u001b[0;34m(\u001b[0m\u001b[0mX\u001b[0m\u001b[0;34m)\u001b[0m\u001b[0;34m\u001b[0m\u001b[0;34m\u001b[0m\u001b[0m\n\u001b[0m\u001b[1;32m     37\u001b[0m             \u001b[0mtest_loss\u001b[0m \u001b[0;34m+=\u001b[0m \u001b[0mloss_fn\u001b[0m\u001b[0;34m(\u001b[0m\u001b[0mpred\u001b[0m\u001b[0;34m,\u001b[0m \u001b[0my\u001b[0m\u001b[0;34m)\u001b[0m\u001b[0;34m.\u001b[0m\u001b[0mitem\u001b[0m\u001b[0;34m(\u001b[0m\u001b[0;34m)\u001b[0m\u001b[0;34m\u001b[0m\u001b[0;34m\u001b[0m\u001b[0m\n\u001b[1;32m     38\u001b[0m             \u001b[0mcorrect\u001b[0m \u001b[0;34m+=\u001b[0m \u001b[0;34m(\u001b[0m\u001b[0mpred\u001b[0m\u001b[0;34m.\u001b[0m\u001b[0margmax\u001b[0m\u001b[0;34m(\u001b[0m\u001b[0;36m1\u001b[0m\u001b[0;34m)\u001b[0m \u001b[0;34m==\u001b[0m \u001b[0my\u001b[0m\u001b[0;34m)\u001b[0m\u001b[0;34m.\u001b[0m\u001b[0mtype\u001b[0m\u001b[0;34m(\u001b[0m\u001b[0mtorch\u001b[0m\u001b[0;34m.\u001b[0m\u001b[0mfloat\u001b[0m\u001b[0;34m)\u001b[0m\u001b[0;34m.\u001b[0m\u001b[0msum\u001b[0m\u001b[0;34m(\u001b[0m\u001b[0;34m)\u001b[0m\u001b[0;34m.\u001b[0m\u001b[0mitem\u001b[0m\u001b[0;34m(\u001b[0m\u001b[0;34m)\u001b[0m\u001b[0;34m\u001b[0m\u001b[0;34m\u001b[0m\u001b[0m\n",
            "\u001b[0;32m/usr/local/lib/python3.10/dist-packages/torch/nn/modules/module.py\u001b[0m in \u001b[0;36m_call_impl\u001b[0;34m(self, *args, **kwargs)\u001b[0m\n\u001b[1;32m   1499\u001b[0m                 \u001b[0;32mor\u001b[0m \u001b[0m_global_backward_pre_hooks\u001b[0m \u001b[0;32mor\u001b[0m \u001b[0m_global_backward_hooks\u001b[0m\u001b[0;34m\u001b[0m\u001b[0;34m\u001b[0m\u001b[0m\n\u001b[1;32m   1500\u001b[0m                 or _global_forward_hooks or _global_forward_pre_hooks):\n\u001b[0;32m-> 1501\u001b[0;31m             \u001b[0;32mreturn\u001b[0m \u001b[0mforward_call\u001b[0m\u001b[0;34m(\u001b[0m\u001b[0;34m*\u001b[0m\u001b[0margs\u001b[0m\u001b[0;34m,\u001b[0m \u001b[0;34m**\u001b[0m\u001b[0mkwargs\u001b[0m\u001b[0;34m)\u001b[0m\u001b[0;34m\u001b[0m\u001b[0;34m\u001b[0m\u001b[0m\n\u001b[0m\u001b[1;32m   1502\u001b[0m         \u001b[0;31m# Do not call functions when jit is used\u001b[0m\u001b[0;34m\u001b[0m\u001b[0;34m\u001b[0m\u001b[0m\n\u001b[1;32m   1503\u001b[0m         \u001b[0mfull_backward_hooks\u001b[0m\u001b[0;34m,\u001b[0m \u001b[0mnon_full_backward_hooks\u001b[0m \u001b[0;34m=\u001b[0m \u001b[0;34m[\u001b[0m\u001b[0;34m]\u001b[0m\u001b[0;34m,\u001b[0m \u001b[0;34m[\u001b[0m\u001b[0;34m]\u001b[0m\u001b[0;34m\u001b[0m\u001b[0;34m\u001b[0m\u001b[0m\n",
            "\u001b[0;32m<ipython-input-28-3bd34b16b851>\u001b[0m in \u001b[0;36mforward\u001b[0;34m(self, x)\u001b[0m\n\u001b[1;32m     20\u001b[0m \u001b[0;34m\u001b[0m\u001b[0m\n\u001b[1;32m     21\u001b[0m     \u001b[0;32mdef\u001b[0m \u001b[0mforward\u001b[0m\u001b[0;34m(\u001b[0m\u001b[0mself\u001b[0m\u001b[0;34m,\u001b[0m \u001b[0mx\u001b[0m\u001b[0;34m)\u001b[0m\u001b[0;34m:\u001b[0m\u001b[0;34m\u001b[0m\u001b[0;34m\u001b[0m\u001b[0m\n\u001b[0;32m---> 22\u001b[0;31m         \u001b[0mout\u001b[0m \u001b[0;34m=\u001b[0m \u001b[0mself\u001b[0m\u001b[0;34m.\u001b[0m\u001b[0mlayer1\u001b[0m\u001b[0;34m(\u001b[0m\u001b[0mx\u001b[0m\u001b[0;34m)\u001b[0m  \u001b[0;31m# Second dimension is for channels, but we only have one channel.\u001b[0m\u001b[0;34m\u001b[0m\u001b[0;34m\u001b[0m\u001b[0m\n\u001b[0m\u001b[1;32m     23\u001b[0m         \u001b[0mout\u001b[0m \u001b[0;34m=\u001b[0m \u001b[0mself\u001b[0m\u001b[0;34m.\u001b[0m\u001b[0mlayer2\u001b[0m\u001b[0;34m(\u001b[0m\u001b[0mout\u001b[0m\u001b[0;34m)\u001b[0m\u001b[0;34m\u001b[0m\u001b[0;34m\u001b[0m\u001b[0m\n\u001b[1;32m     24\u001b[0m         \u001b[0mout\u001b[0m \u001b[0;34m=\u001b[0m \u001b[0mself\u001b[0m\u001b[0;34m.\u001b[0m\u001b[0mflatten\u001b[0m\u001b[0;34m(\u001b[0m\u001b[0mout\u001b[0m\u001b[0;34m)\u001b[0m\u001b[0;34m\u001b[0m\u001b[0;34m\u001b[0m\u001b[0m\n",
            "\u001b[0;32m/usr/local/lib/python3.10/dist-packages/torch/nn/modules/module.py\u001b[0m in \u001b[0;36m_call_impl\u001b[0;34m(self, *args, **kwargs)\u001b[0m\n\u001b[1;32m   1499\u001b[0m                 \u001b[0;32mor\u001b[0m \u001b[0m_global_backward_pre_hooks\u001b[0m \u001b[0;32mor\u001b[0m \u001b[0m_global_backward_hooks\u001b[0m\u001b[0;34m\u001b[0m\u001b[0;34m\u001b[0m\u001b[0m\n\u001b[1;32m   1500\u001b[0m                 or _global_forward_hooks or _global_forward_pre_hooks):\n\u001b[0;32m-> 1501\u001b[0;31m             \u001b[0;32mreturn\u001b[0m \u001b[0mforward_call\u001b[0m\u001b[0;34m(\u001b[0m\u001b[0;34m*\u001b[0m\u001b[0margs\u001b[0m\u001b[0;34m,\u001b[0m \u001b[0;34m**\u001b[0m\u001b[0mkwargs\u001b[0m\u001b[0;34m)\u001b[0m\u001b[0;34m\u001b[0m\u001b[0;34m\u001b[0m\u001b[0m\n\u001b[0m\u001b[1;32m   1502\u001b[0m         \u001b[0;31m# Do not call functions when jit is used\u001b[0m\u001b[0;34m\u001b[0m\u001b[0;34m\u001b[0m\u001b[0m\n\u001b[1;32m   1503\u001b[0m         \u001b[0mfull_backward_hooks\u001b[0m\u001b[0;34m,\u001b[0m \u001b[0mnon_full_backward_hooks\u001b[0m \u001b[0;34m=\u001b[0m \u001b[0;34m[\u001b[0m\u001b[0;34m]\u001b[0m\u001b[0;34m,\u001b[0m \u001b[0;34m[\u001b[0m\u001b[0;34m]\u001b[0m\u001b[0;34m\u001b[0m\u001b[0;34m\u001b[0m\u001b[0m\n",
            "\u001b[0;32m/usr/local/lib/python3.10/dist-packages/torch/nn/modules/container.py\u001b[0m in \u001b[0;36mforward\u001b[0;34m(self, input)\u001b[0m\n\u001b[1;32m    215\u001b[0m     \u001b[0;32mdef\u001b[0m \u001b[0mforward\u001b[0m\u001b[0;34m(\u001b[0m\u001b[0mself\u001b[0m\u001b[0;34m,\u001b[0m \u001b[0minput\u001b[0m\u001b[0;34m)\u001b[0m\u001b[0;34m:\u001b[0m\u001b[0;34m\u001b[0m\u001b[0;34m\u001b[0m\u001b[0m\n\u001b[1;32m    216\u001b[0m         \u001b[0;32mfor\u001b[0m \u001b[0mmodule\u001b[0m \u001b[0;32min\u001b[0m \u001b[0mself\u001b[0m\u001b[0;34m:\u001b[0m\u001b[0;34m\u001b[0m\u001b[0;34m\u001b[0m\u001b[0m\n\u001b[0;32m--> 217\u001b[0;31m             \u001b[0minput\u001b[0m \u001b[0;34m=\u001b[0m \u001b[0mmodule\u001b[0m\u001b[0;34m(\u001b[0m\u001b[0minput\u001b[0m\u001b[0;34m)\u001b[0m\u001b[0;34m\u001b[0m\u001b[0;34m\u001b[0m\u001b[0m\n\u001b[0m\u001b[1;32m    218\u001b[0m         \u001b[0;32mreturn\u001b[0m \u001b[0minput\u001b[0m\u001b[0;34m\u001b[0m\u001b[0;34m\u001b[0m\u001b[0m\n\u001b[1;32m    219\u001b[0m \u001b[0;34m\u001b[0m\u001b[0m\n",
            "\u001b[0;32m/usr/local/lib/python3.10/dist-packages/torch/nn/modules/module.py\u001b[0m in \u001b[0;36m_call_impl\u001b[0;34m(self, *args, **kwargs)\u001b[0m\n\u001b[1;32m   1499\u001b[0m                 \u001b[0;32mor\u001b[0m \u001b[0m_global_backward_pre_hooks\u001b[0m \u001b[0;32mor\u001b[0m \u001b[0m_global_backward_hooks\u001b[0m\u001b[0;34m\u001b[0m\u001b[0;34m\u001b[0m\u001b[0m\n\u001b[1;32m   1500\u001b[0m                 or _global_forward_hooks or _global_forward_pre_hooks):\n\u001b[0;32m-> 1501\u001b[0;31m             \u001b[0;32mreturn\u001b[0m \u001b[0mforward_call\u001b[0m\u001b[0;34m(\u001b[0m\u001b[0;34m*\u001b[0m\u001b[0margs\u001b[0m\u001b[0;34m,\u001b[0m \u001b[0;34m**\u001b[0m\u001b[0mkwargs\u001b[0m\u001b[0;34m)\u001b[0m\u001b[0;34m\u001b[0m\u001b[0;34m\u001b[0m\u001b[0m\n\u001b[0m\u001b[1;32m   1502\u001b[0m         \u001b[0;31m# Do not call functions when jit is used\u001b[0m\u001b[0;34m\u001b[0m\u001b[0;34m\u001b[0m\u001b[0m\n\u001b[1;32m   1503\u001b[0m         \u001b[0mfull_backward_hooks\u001b[0m\u001b[0;34m,\u001b[0m \u001b[0mnon_full_backward_hooks\u001b[0m \u001b[0;34m=\u001b[0m \u001b[0;34m[\u001b[0m\u001b[0;34m]\u001b[0m\u001b[0;34m,\u001b[0m \u001b[0;34m[\u001b[0m\u001b[0;34m]\u001b[0m\u001b[0;34m\u001b[0m\u001b[0;34m\u001b[0m\u001b[0m\n",
            "\u001b[0;32m/usr/local/lib/python3.10/dist-packages/torch/nn/modules/conv.py\u001b[0m in \u001b[0;36mforward\u001b[0;34m(self, input)\u001b[0m\n\u001b[1;32m    461\u001b[0m \u001b[0;34m\u001b[0m\u001b[0m\n\u001b[1;32m    462\u001b[0m     \u001b[0;32mdef\u001b[0m \u001b[0mforward\u001b[0m\u001b[0;34m(\u001b[0m\u001b[0mself\u001b[0m\u001b[0;34m,\u001b[0m \u001b[0minput\u001b[0m\u001b[0;34m:\u001b[0m \u001b[0mTensor\u001b[0m\u001b[0;34m)\u001b[0m \u001b[0;34m->\u001b[0m \u001b[0mTensor\u001b[0m\u001b[0;34m:\u001b[0m\u001b[0;34m\u001b[0m\u001b[0;34m\u001b[0m\u001b[0m\n\u001b[0;32m--> 463\u001b[0;31m         \u001b[0;32mreturn\u001b[0m \u001b[0mself\u001b[0m\u001b[0;34m.\u001b[0m\u001b[0m_conv_forward\u001b[0m\u001b[0;34m(\u001b[0m\u001b[0minput\u001b[0m\u001b[0;34m,\u001b[0m \u001b[0mself\u001b[0m\u001b[0;34m.\u001b[0m\u001b[0mweight\u001b[0m\u001b[0;34m,\u001b[0m \u001b[0mself\u001b[0m\u001b[0;34m.\u001b[0m\u001b[0mbias\u001b[0m\u001b[0;34m)\u001b[0m\u001b[0;34m\u001b[0m\u001b[0;34m\u001b[0m\u001b[0m\n\u001b[0m\u001b[1;32m    464\u001b[0m \u001b[0;34m\u001b[0m\u001b[0m\n\u001b[1;32m    465\u001b[0m \u001b[0;32mclass\u001b[0m \u001b[0mConv3d\u001b[0m\u001b[0;34m(\u001b[0m\u001b[0m_ConvNd\u001b[0m\u001b[0;34m)\u001b[0m\u001b[0;34m:\u001b[0m\u001b[0;34m\u001b[0m\u001b[0;34m\u001b[0m\u001b[0m\n",
            "\u001b[0;32m/usr/local/lib/python3.10/dist-packages/torch/nn/modules/conv.py\u001b[0m in \u001b[0;36m_conv_forward\u001b[0;34m(self, input, weight, bias)\u001b[0m\n\u001b[1;32m    457\u001b[0m                             \u001b[0mweight\u001b[0m\u001b[0;34m,\u001b[0m \u001b[0mbias\u001b[0m\u001b[0;34m,\u001b[0m \u001b[0mself\u001b[0m\u001b[0;34m.\u001b[0m\u001b[0mstride\u001b[0m\u001b[0;34m,\u001b[0m\u001b[0;34m\u001b[0m\u001b[0;34m\u001b[0m\u001b[0m\n\u001b[1;32m    458\u001b[0m                             _pair(0), self.dilation, self.groups)\n\u001b[0;32m--> 459\u001b[0;31m         return F.conv2d(input, weight, bias, self.stride,\n\u001b[0m\u001b[1;32m    460\u001b[0m                         self.padding, self.dilation, self.groups)\n\u001b[1;32m    461\u001b[0m \u001b[0;34m\u001b[0m\u001b[0m\n",
            "\u001b[0;31mRuntimeError\u001b[0m: Given groups=1, weight of size [6, 1, 5, 5], expected input[64, 3, 32, 32] to have 1 channels, but got 3 channels instead"
          ]
        }
      ]
    },
    {
      "cell_type": "markdown",
      "source": [
        "We get an error if we use the test dataloader (without colors) for testing the two models. This is because the model LeNet5Color is expected data (images) with colors. Likewise, we also get an error if we use the test dataloader (with colors) for testing the two models since LeNet5 is expected data(images) without colors. So the two models are not comparable on the same basis.\n",
        "\n",
        "We can show the test accuracy on each suitable test dataloader"
      ],
      "metadata": {
        "id": "LyGpQQDcjAff"
      },
      "id": "LyGpQQDcjAff"
    },
    {
      "cell_type": "code",
      "source": [
        "#Evaluating on the test dataloader, one with colors and the second one without\n",
        "\n",
        "print(\"model LeNet5\")\n",
        "evaluate_loop(test_dataloader, modelLeNet5, loss_fn, device, set_= 'Test' )\n",
        "\n",
        "print(\"model LeNet5Color\")\n",
        "evaluate_loop(test_dataloader_color, modelLeNet5Color, loss_fn, device, set_= 'Test' )"
      ],
      "metadata": {
        "colab": {
          "base_uri": "https://localhost:8080/"
        },
        "id": "H3PjP_8Qi_49",
        "outputId": "0b3e8741-dc90-471d-8f0d-23a51f4cceb8"
      },
      "id": "H3PjP_8Qi_49",
      "execution_count": null,
      "outputs": [
        {
          "output_type": "stream",
          "name": "stdout",
          "text": [
            "model LeNet5\n",
            "\n",
            "Test set: \n",
            "  Accuracy: 57.7%, Avg loss: 1.244318 \n",
            "\n",
            "model LeNet5Color\n",
            "\n",
            "Test set: \n",
            "  Accuracy: 63.5%, Avg loss: 1.071223 \n",
            "\n"
          ]
        }
      ]
    },
    {
      "cell_type": "markdown",
      "id": "74fa2d43-fea2-4615-940f-a831e1438bfc",
      "metadata": {
        "scrolled": true,
        "id": "74fa2d43-fea2-4615-940f-a831e1438bfc"
      },
      "source": [
        "## Exercise 12\n",
        "- Randomly take 10 examples from each class of CIFAR10 to make a subset (*) of the dataset.\n",
        "- Load this model ResNet18 pre-trained on ImageNet v1 which is available from `torchvision.models`. See [this](https://pytorch.org/vision/stable/models.html) and [this documentation](https://pytorch.org/vision/stable/models/generated/torchvision.models.resnet18.html#torchvision.models.resnet18).\n",
        "- Fine-tune the pre-trained model for 10-class classification with your subset (from (*)) of CIFAR10 (with colors). Train the model for 5 epochs.\n",
        "- You may need to carefully read [this documentation](https://pytorch.org/vision/stable/models/generated/torchvision.models.resnet18.html#torchvision.models.resnet18) to do the right data pre-processing.\n",
        "\n",
        "For this exercise, what is important is to have correct code. The final accuracy is less important, so you don't need to spend too much time on tuning hyper-parameters. There is a big difference in the image sizes, and it is challenging to make this transfer learning successful."
      ]
    },
    {
      "cell_type": "markdown",
      "source": [
        "Solution of exercise 12"
      ],
      "metadata": {
        "id": "1s8_TLYD8ZSJ"
      },
      "id": "1s8_TLYD8ZSJ"
    },
    {
      "cell_type": "code",
      "source": [
        "x_train_col.shape"
      ],
      "metadata": {
        "colab": {
          "base_uri": "https://localhost:8080/"
        },
        "id": "sBX0jUfT8Y7O",
        "outputId": "ed6a8c9f-155d-4145-d787-7ff55ff61835"
      },
      "id": "sBX0jUfT8Y7O",
      "execution_count": null,
      "outputs": [
        {
          "output_type": "execute_result",
          "data": {
            "text/plain": [
              "torch.Size([40000, 3, 32, 32])"
            ]
          },
          "metadata": {},
          "execution_count": 38
        }
      ]
    },
    {
      "cell_type": "code",
      "source": [
        "classes =  np.unique(y_train_col) #the different labels\n",
        "\n",
        "X_col = [[x_train_col[i,:,:,:] for i in range(len(x_train_col)) if y_train_col[i]==classe] for classe in classes] #data regrouped by labels in different lists\n",
        "y_col = [[y_train_col[i] for i in range(len(y_train_col)) if y_train_col[i]==classe] for classe in classes] #target variable repgrouped by labels in different lists\n",
        "x_subset_cifar = []\n",
        "y_subset_cifar = []\n",
        "\n",
        "#Randomly take 10 examples from each class\n",
        "for classe in classes :\n",
        "  sublist = np.random.random_integers(0, len(X_col[classe])-1, 10) # random list of indexes per label, a list of len 10\n",
        "  x_subset_cifar += [X_col[classe][i] for i in sublist] # 10 randomly took examples for this class\n",
        "  y_subset_cifar += [y_col[classe][i] for i in sublist] # the corresponding labels"
      ],
      "metadata": {
        "colab": {
          "base_uri": "https://localhost:8080/"
        },
        "id": "jlBFisxY1g84",
        "outputId": "8578a48f-c144-4dcb-8bf2-1e242a50b7a5"
      },
      "id": "jlBFisxY1g84",
      "execution_count": null,
      "outputs": [
        {
          "output_type": "stream",
          "name": "stderr",
          "text": [
            "<ipython-input-39-40aff5621c23>:10: DeprecationWarning: This function is deprecated. Please call randint(0, 3999 + 1) instead\n",
            "  sublist = np.random.random_integers(0, len(X_col[classe])-1, 10) # random list of indexes per label, a list of len 10\n"
          ]
        }
      ]
    },
    {
      "cell_type": "code",
      "source": [
        "x_subset_cifar = torch.from_numpy(np.concatenate([t[np.newaxis, ...] for t in x_subset_cifar], axis=0)).to(dtype = torch.float32) # creating the tensor from the list\n",
        "y_subset_cifar = torch.from_numpy(np.array(y_subset_cifar)).to(dtype = torch.int64) #creating the tensor from the list\n",
        "print(x_subset_cifar.shape)\n",
        "print(y_subset_cifar.shape)"
      ],
      "metadata": {
        "colab": {
          "base_uri": "https://localhost:8080/"
        },
        "id": "5oBUzfyI64sv",
        "outputId": "f26b1ab3-5a0f-4799-c1d1-2a0c6186da81"
      },
      "id": "5oBUzfyI64sv",
      "execution_count": null,
      "outputs": [
        {
          "output_type": "stream",
          "name": "stdout",
          "text": [
            "torch.Size([100, 3, 32, 32])\n",
            "torch.Size([100])\n"
          ]
        }
      ]
    },
    {
      "cell_type": "code",
      "source": [
        "from torchvision.models import resnet18, ResNet18_Weights\n",
        "Resnet18 = resnet18(pretrained=True) #loading pre-trained resnet18"
      ],
      "metadata": {
        "colab": {
          "base_uri": "https://localhost:8080/"
        },
        "id": "QdPMQV3R9z2o",
        "outputId": "76a6a59e-3a7b-4939-96d2-0e4b777f2e49"
      },
      "id": "QdPMQV3R9z2o",
      "execution_count": null,
      "outputs": [
        {
          "output_type": "stream",
          "name": "stderr",
          "text": [
            "/usr/local/lib/python3.10/dist-packages/torchvision/models/_utils.py:208: UserWarning: The parameter 'pretrained' is deprecated since 0.13 and may be removed in the future, please use 'weights' instead.\n",
            "  warnings.warn(\n",
            "/usr/local/lib/python3.10/dist-packages/torchvision/models/_utils.py:223: UserWarning: Arguments other than a weight enum or `None` for 'weights' are deprecated since 0.13 and may be removed in the future. The current behavior is equivalent to passing `weights=ResNet18_Weights.IMAGENET1K_V1`. You can also use `weights=ResNet18_Weights.DEFAULT` to get the most up-to-date weights.\n",
            "  warnings.warn(msg)\n",
            "Downloading: \"https://download.pytorch.org/models/resnet18-f37072fd.pth\" to /root/.cache/torch/hub/checkpoints/resnet18-f37072fd.pth\n",
            "100%|██████████| 44.7M/44.7M [00:00<00:00, 151MB/s]\n"
          ]
        }
      ]
    },
    {
      "cell_type": "code",
      "source": [
        "#Fine tune the pre-trained model\n",
        "Resnet18.fc = nn.Linear(Resnet18.fc.in_features, 10)  # 10 output classes for CIFAR-10\n",
        "\n",
        "loss_fn = nn.CrossEntropyLoss()\n",
        "optimizer = torch.optim.Adam(params=Resnet18.parameters(), lr=1e-3)\n",
        "\n",
        "# Train the model\n",
        "epochs = 5\n",
        "Resnet18.to(device)"
      ],
      "metadata": {
        "colab": {
          "base_uri": "https://localhost:8080/"
        },
        "id": "uGD2HUc3_AE6",
        "outputId": "f15777fb-2a78-46e9-c42b-745ce5017419"
      },
      "id": "uGD2HUc3_AE6",
      "execution_count": null,
      "outputs": [
        {
          "output_type": "execute_result",
          "data": {
            "text/plain": [
              "ResNet(\n",
              "  (conv1): Conv2d(3, 64, kernel_size=(7, 7), stride=(2, 2), padding=(3, 3), bias=False)\n",
              "  (bn1): BatchNorm2d(64, eps=1e-05, momentum=0.1, affine=True, track_running_stats=True)\n",
              "  (relu): ReLU(inplace=True)\n",
              "  (maxpool): MaxPool2d(kernel_size=3, stride=2, padding=1, dilation=1, ceil_mode=False)\n",
              "  (layer1): Sequential(\n",
              "    (0): BasicBlock(\n",
              "      (conv1): Conv2d(64, 64, kernel_size=(3, 3), stride=(1, 1), padding=(1, 1), bias=False)\n",
              "      (bn1): BatchNorm2d(64, eps=1e-05, momentum=0.1, affine=True, track_running_stats=True)\n",
              "      (relu): ReLU(inplace=True)\n",
              "      (conv2): Conv2d(64, 64, kernel_size=(3, 3), stride=(1, 1), padding=(1, 1), bias=False)\n",
              "      (bn2): BatchNorm2d(64, eps=1e-05, momentum=0.1, affine=True, track_running_stats=True)\n",
              "    )\n",
              "    (1): BasicBlock(\n",
              "      (conv1): Conv2d(64, 64, kernel_size=(3, 3), stride=(1, 1), padding=(1, 1), bias=False)\n",
              "      (bn1): BatchNorm2d(64, eps=1e-05, momentum=0.1, affine=True, track_running_stats=True)\n",
              "      (relu): ReLU(inplace=True)\n",
              "      (conv2): Conv2d(64, 64, kernel_size=(3, 3), stride=(1, 1), padding=(1, 1), bias=False)\n",
              "      (bn2): BatchNorm2d(64, eps=1e-05, momentum=0.1, affine=True, track_running_stats=True)\n",
              "    )\n",
              "  )\n",
              "  (layer2): Sequential(\n",
              "    (0): BasicBlock(\n",
              "      (conv1): Conv2d(64, 128, kernel_size=(3, 3), stride=(2, 2), padding=(1, 1), bias=False)\n",
              "      (bn1): BatchNorm2d(128, eps=1e-05, momentum=0.1, affine=True, track_running_stats=True)\n",
              "      (relu): ReLU(inplace=True)\n",
              "      (conv2): Conv2d(128, 128, kernel_size=(3, 3), stride=(1, 1), padding=(1, 1), bias=False)\n",
              "      (bn2): BatchNorm2d(128, eps=1e-05, momentum=0.1, affine=True, track_running_stats=True)\n",
              "      (downsample): Sequential(\n",
              "        (0): Conv2d(64, 128, kernel_size=(1, 1), stride=(2, 2), bias=False)\n",
              "        (1): BatchNorm2d(128, eps=1e-05, momentum=0.1, affine=True, track_running_stats=True)\n",
              "      )\n",
              "    )\n",
              "    (1): BasicBlock(\n",
              "      (conv1): Conv2d(128, 128, kernel_size=(3, 3), stride=(1, 1), padding=(1, 1), bias=False)\n",
              "      (bn1): BatchNorm2d(128, eps=1e-05, momentum=0.1, affine=True, track_running_stats=True)\n",
              "      (relu): ReLU(inplace=True)\n",
              "      (conv2): Conv2d(128, 128, kernel_size=(3, 3), stride=(1, 1), padding=(1, 1), bias=False)\n",
              "      (bn2): BatchNorm2d(128, eps=1e-05, momentum=0.1, affine=True, track_running_stats=True)\n",
              "    )\n",
              "  )\n",
              "  (layer3): Sequential(\n",
              "    (0): BasicBlock(\n",
              "      (conv1): Conv2d(128, 256, kernel_size=(3, 3), stride=(2, 2), padding=(1, 1), bias=False)\n",
              "      (bn1): BatchNorm2d(256, eps=1e-05, momentum=0.1, affine=True, track_running_stats=True)\n",
              "      (relu): ReLU(inplace=True)\n",
              "      (conv2): Conv2d(256, 256, kernel_size=(3, 3), stride=(1, 1), padding=(1, 1), bias=False)\n",
              "      (bn2): BatchNorm2d(256, eps=1e-05, momentum=0.1, affine=True, track_running_stats=True)\n",
              "      (downsample): Sequential(\n",
              "        (0): Conv2d(128, 256, kernel_size=(1, 1), stride=(2, 2), bias=False)\n",
              "        (1): BatchNorm2d(256, eps=1e-05, momentum=0.1, affine=True, track_running_stats=True)\n",
              "      )\n",
              "    )\n",
              "    (1): BasicBlock(\n",
              "      (conv1): Conv2d(256, 256, kernel_size=(3, 3), stride=(1, 1), padding=(1, 1), bias=False)\n",
              "      (bn1): BatchNorm2d(256, eps=1e-05, momentum=0.1, affine=True, track_running_stats=True)\n",
              "      (relu): ReLU(inplace=True)\n",
              "      (conv2): Conv2d(256, 256, kernel_size=(3, 3), stride=(1, 1), padding=(1, 1), bias=False)\n",
              "      (bn2): BatchNorm2d(256, eps=1e-05, momentum=0.1, affine=True, track_running_stats=True)\n",
              "    )\n",
              "  )\n",
              "  (layer4): Sequential(\n",
              "    (0): BasicBlock(\n",
              "      (conv1): Conv2d(256, 512, kernel_size=(3, 3), stride=(2, 2), padding=(1, 1), bias=False)\n",
              "      (bn1): BatchNorm2d(512, eps=1e-05, momentum=0.1, affine=True, track_running_stats=True)\n",
              "      (relu): ReLU(inplace=True)\n",
              "      (conv2): Conv2d(512, 512, kernel_size=(3, 3), stride=(1, 1), padding=(1, 1), bias=False)\n",
              "      (bn2): BatchNorm2d(512, eps=1e-05, momentum=0.1, affine=True, track_running_stats=True)\n",
              "      (downsample): Sequential(\n",
              "        (0): Conv2d(256, 512, kernel_size=(1, 1), stride=(2, 2), bias=False)\n",
              "        (1): BatchNorm2d(512, eps=1e-05, momentum=0.1, affine=True, track_running_stats=True)\n",
              "      )\n",
              "    )\n",
              "    (1): BasicBlock(\n",
              "      (conv1): Conv2d(512, 512, kernel_size=(3, 3), stride=(1, 1), padding=(1, 1), bias=False)\n",
              "      (bn1): BatchNorm2d(512, eps=1e-05, momentum=0.1, affine=True, track_running_stats=True)\n",
              "      (relu): ReLU(inplace=True)\n",
              "      (conv2): Conv2d(512, 512, kernel_size=(3, 3), stride=(1, 1), padding=(1, 1), bias=False)\n",
              "      (bn2): BatchNorm2d(512, eps=1e-05, momentum=0.1, affine=True, track_running_stats=True)\n",
              "    )\n",
              "  )\n",
              "  (avgpool): AdaptiveAvgPool2d(output_size=(1, 1))\n",
              "  (fc): Linear(in_features=512, out_features=10, bias=True)\n",
              ")"
            ]
          },
          "metadata": {},
          "execution_count": 42
        }
      ]
    },
    {
      "cell_type": "code",
      "source": [
        "transf = ResNet18_Weights.IMAGENET1K_V1.transforms() #transformations from the documentation of Resnet18\n",
        "train_dataloader_resnet = DataLoader(CustomDataset(x_subset_cifar, y_subset_cifar, transform = transf), batch_size=64, shuffle=True) #create the dataloader with the suitable preprocessing"
      ],
      "metadata": {
        "colab": {
          "base_uri": "https://localhost:8080/"
        },
        "id": "q7wgwei6AJVj",
        "outputId": "34d10ee4-6101-41e5-81af-b5ac8c05b633"
      },
      "id": "q7wgwei6AJVj",
      "execution_count": null,
      "outputs": [
        {
          "output_type": "stream",
          "name": "stderr",
          "text": [
            "<ipython-input-12-d19eb33125b3>:7: UserWarning: To copy construct from a tensor, it is recommended to use sourceTensor.clone().detach() or sourceTensor.clone().detach().requires_grad_(True), rather than torch.tensor(sourceTensor).\n",
            "  self.X = torch.tensor(X, dtype=torch.float32) # applying the transform ToTensor() and changing the dtype directly\n",
            "<ipython-input-12-d19eb33125b3>:8: UserWarning: To copy construct from a tensor, it is recommended to use sourceTensor.clone().detach() or sourceTensor.clone().detach().requires_grad_(True), rather than torch.tensor(sourceTensor).\n",
            "  self.y = torch.tensor(y, dtype=torch.int64) # applying the transform ToTensor() and changing the dtype directly\n"
          ]
        }
      ]
    },
    {
      "cell_type": "code",
      "source": [
        "#Train the model with the subset and with 5 epochs\n",
        "for t in range(epochs):\n",
        "    print(f\"Epoch {t+1}\\n-------------------------------\")\n",
        "    train_loop(train_dataloader_resnet, Resnet18, loss_fn, optimizer, device) # training with the subset\n",
        "    evaluate_loop(val_dataloader_color, Resnet18, loss_fn, device)"
      ],
      "metadata": {
        "colab": {
          "base_uri": "https://localhost:8080/"
        },
        "id": "Xawc0mOB__ys",
        "outputId": "93c11932-935d-479c-8b2d-0981ee5d8eab"
      },
      "id": "Xawc0mOB__ys",
      "execution_count": null,
      "outputs": [
        {
          "output_type": "stream",
          "name": "stderr",
          "text": [
            "/usr/local/lib/python3.10/dist-packages/torchvision/transforms/functional.py:1603: UserWarning: The default value of the antialias parameter of all the resizing transforms (Resize(), RandomResizedCrop(), etc.) will change from None to True in v0.17, in order to be consistent across the PIL and Tensor backends. To suppress this warning, directly pass antialias=True (recommended, future default), antialias=None (current default, which means False for Tensors and True for PIL), or antialias=False (only works on Tensors - PIL will still use antialiasing). This also applies if you are using the inference transforms from the models weights: update the call to weights.transforms(antialias=True).\n",
            "  warnings.warn(\n"
          ]
        },
        {
          "output_type": "stream",
          "name": "stdout",
          "text": [
            "Epoch 1\n",
            "-------------------------------\n",
            "loss: 2.425825  [   64 /   100]\n",
            "\n",
            "Validation set: \n",
            "  Accuracy: 15.9%, Avg loss: 2.338558 \n",
            "\n",
            "Epoch 2\n",
            "-------------------------------\n",
            "loss: 0.340722  [   64 /   100]\n",
            "\n",
            "Validation set: \n",
            "  Accuracy: 13.4%, Avg loss: 2.391738 \n",
            "\n",
            "Epoch 3\n",
            "-------------------------------\n",
            "loss: 0.051154  [   64 /   100]\n",
            "\n",
            "Validation set: \n",
            "  Accuracy: 10.7%, Avg loss: 2.439552 \n",
            "\n",
            "Epoch 4\n",
            "-------------------------------\n",
            "loss: 0.076581  [   64 /   100]\n",
            "\n",
            "Validation set: \n",
            "  Accuracy: 10.1%, Avg loss: 2.459397 \n",
            "\n",
            "Epoch 5\n",
            "-------------------------------\n",
            "loss: 0.015164  [   64 /   100]\n",
            "\n",
            "Validation set: \n",
            "  Accuracy: 9.9%, Avg loss: 2.466003 \n",
            "\n"
          ]
        }
      ]
    },
    {
      "cell_type": "code",
      "source": [
        "# evaluate on the test dataloader\n",
        "print(\"model Resnet18\")\n",
        "evaluate_loop(test_dataloader_color, Resnet18, loss_fn, device, set_ = 'Test')\n"
      ],
      "metadata": {
        "colab": {
          "base_uri": "https://localhost:8080/"
        },
        "id": "4aCdHe39pcIS",
        "outputId": "9f06af18-4255-48b5-d5d8-de0435a9e611"
      },
      "id": "4aCdHe39pcIS",
      "execution_count": null,
      "outputs": [
        {
          "output_type": "stream",
          "name": "stdout",
          "text": [
            "model Resnet18\n",
            "\n",
            "Test set: \n",
            "  Accuracy: 11.3%, Avg loss: 2.464847 \n",
            "\n"
          ]
        }
      ]
    }
  ],
  "metadata": {
    "kernelspec": {
      "display_name": "Python 3",
      "name": "python3"
    },
    "language_info": {
      "codemirror_mode": {
        "name": "ipython",
        "version": 3
      },
      "file_extension": ".py",
      "mimetype": "text/x-python",
      "name": "python",
      "nbconvert_exporter": "python",
      "pygments_lexer": "ipython3",
      "version": "3.11.4"
    },
    "colab": {
      "provenance": [],
      "gpuType": "T4"
    },
    "accelerator": "GPU"
  },
  "nbformat": 4,
  "nbformat_minor": 5
}